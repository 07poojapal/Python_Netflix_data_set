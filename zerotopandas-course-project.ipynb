{
 "cells": [
  {
   "cell_type": "markdown",
   "metadata": {},
   "source": [
    "# Netflix Movies and TV Shows\n",
    "\n",
    "This notebook is on analysis of Netflix data that is the TV shows and movies on netflix. I have used Matplotlib and Seaboarn library for creating graphs for visualization of data. \n",
    "Matplotlib - It is cross platform, data visualization and graphical plotting library for python.\n",
    "Seaborn - It is extended version of Matplotlib which uses Matplotlib, Numpy and Pandas to plot graphs. "
   ]
  },
  {
   "cell_type": "markdown",
   "metadata": {},
   "source": [
    "### How to run the code\n",
    "\n",
    "This is an executable [*Jupyter notebook*](https://jupyter.org) hosted on [Jovian.ml](https://www.jovian.ml), a platform for sharing data science projects. You can run and experiment with the code in a couple of ways: *using free online resources* (recommended) or *on your own computer*.\n",
    "\n",
    "#### Option 1: Running using free online resources (1-click, recommended)\n",
    "\n",
    "The easiest way to start executing this notebook is to click the \"Run\" button at the top of this page, and select \"Run on Binder\". This will run the notebook on [mybinder.org](https://mybinder.org), a free online service for running Jupyter notebooks. You can also select \"Run on Colab\" or \"Run on Kaggle\".\n",
    "\n",
    "\n",
    "#### Option 2: Running on your computer locally\n",
    "\n",
    "1. Install Conda by [following these instructions](https://conda.io/projects/conda/en/latest/user-guide/install/index.html). Add Conda binaries to your system `PATH`, so you can use the `conda` command on your terminal.\n",
    "\n",
    "2. Create a Conda environment and install the required libraries by running these commands on the terminal:\n",
    "\n",
    "```\n",
    "conda create -n zerotopandas -y python=3.8 \n",
    "conda activate zerotopandas\n",
    "pip install jovian jupyter numpy pandas matplotlib seaborn opendatasets --upgrade\n",
    "```\n",
    "\n",
    "3. Press the \"Clone\" button above to copy the command for downloading the notebook, and run it on the terminal. This will create a new directory and download the notebook. The command will look something like this:\n",
    "\n",
    "```\n",
    "jovian clone notebook-owner/notebook-id\n",
    "```\n",
    "\n",
    "\n",
    "\n",
    "4. Enter the newly created directory using `cd directory-name` and start the Jupyter notebook.\n",
    "\n",
    "```\n",
    "jupyter notebook\n",
    "```\n",
    "\n",
    "You can now access Jupyter's web interface by clicking the link that shows up on the terminal or by visiting http://localhost:8888 on your browser. Click on the notebook file (it has a `.ipynb` extension) to open it.\n"
   ]
  },
  {
   "cell_type": "markdown",
   "metadata": {},
   "source": [
    "## Downloading the Dataset\n",
    "\n",
    "Step 1: First we will install the important packages. <br>\n",
    "Step 2: Then we need a dataset to explore and understand the practical knowledge of the pandas dataframe module.  <br>\n",
    "Step 3: Here I have used the datasets available on Kaggle platform https://www.kaggle.com/datasets?fileType=csv    <br>\n",
    "Step 4: Select the dataset that has enough rows and columns to explore and try different graphs.  <br>"
   ]
  },
  {
   "cell_type": "code",
   "execution_count": 2,
   "metadata": {
    "scrolled": true
   },
   "outputs": [
    {
     "data": {
      "application/javascript": [
       "window.require && require([\"base/js/namespace\"],function(Jupyter){Jupyter.notebook.save_checkpoint()})"
      ],
      "text/plain": [
       "<IPython.core.display.Javascript object>"
      ]
     },
     "metadata": {},
     "output_type": "display_data"
    },
    {
     "name": "stdout",
     "output_type": "stream",
     "text": [
      "[jovian] Updating notebook \"07poojapal/netflix-movies-and-tv-shows\" on https://jovian.com\u001b[0m\n",
      "[jovian] Committed successfully! https://jovian.com/07poojapal/netflix-movies-and-tv-shows\u001b[0m\n"
     ]
    },
    {
     "data": {
      "text/plain": [
       "'https://jovian.com/07poojapal/netflix-movies-and-tv-shows'"
      ]
     },
     "execution_count": 2,
     "metadata": {},
     "output_type": "execute_result"
    }
   ],
   "source": [
    "import jovian\n",
    "jovian.commit()"
   ]
  },
  {
   "cell_type": "code",
   "execution_count": 3,
   "metadata": {},
   "outputs": [],
   "source": [
    "!pip install jovian opendatasets --upgrade --quiet"
   ]
  },
  {
   "cell_type": "markdown",
   "metadata": {},
   "source": [
    "Let's begin by downloading the data, and listing the files within the dataset."
   ]
  },
  {
   "cell_type": "code",
   "execution_count": 4,
   "metadata": {},
   "outputs": [],
   "source": [
    "# Change this\n",
    "dataset_url = 'https://www.kaggle.com/datasets/dgoenrique/netflix-movies-and-tv-shows' "
   ]
  },
  {
   "cell_type": "markdown",
   "metadata": {},
   "source": [
    "\n",
    "opendatasets is a Python library for downloading datasets from online sources like Kaggle and Google Drive using a simple Python command."
   ]
  },
  {
   "cell_type": "code",
   "execution_count": 12,
   "metadata": {},
   "outputs": [
    {
     "name": "stdout",
     "output_type": "stream",
     "text": [
      "Please provide your Kaggle credentials to download this dataset. Learn more: http://bit.ly/kaggle-creds\n",
      "Your Kaggle username: poojapal07\n",
      "Your Kaggle Key: ········\n",
      "Downloading netflix-movies-and-tv-shows.zip to ./netflix-movies-and-tv-shows\n"
     ]
    },
    {
     "name": "stderr",
     "output_type": "stream",
     "text": [
      "100%|██████████| 2.35M/2.35M [00:00<00:00, 27.8MB/s]"
     ]
    },
    {
     "name": "stdout",
     "output_type": "stream",
     "text": [
      "\n"
     ]
    },
    {
     "name": "stderr",
     "output_type": "stream",
     "text": [
      "\n"
     ]
    }
   ],
   "source": [
    "import opendatasets as od\n",
    "od.download(dataset_url)"
   ]
  },
  {
   "cell_type": "markdown",
   "metadata": {},
   "source": [
    "The dataset has been downloaded and extracted."
   ]
  },
  {
   "cell_type": "code",
   "execution_count": 13,
   "metadata": {},
   "outputs": [],
   "source": [
    "# Change this\n",
    "data_dir = './netflix-movies-and-tv-shows'"
   ]
  },
  {
   "cell_type": "code",
   "execution_count": 14,
   "metadata": {},
   "outputs": [
    {
     "data": {
      "text/plain": [
       "['titles.csv', 'credits.csv']"
      ]
     },
     "execution_count": 14,
     "metadata": {},
     "output_type": "execute_result"
    }
   ],
   "source": [
    "import os\n",
    "os.listdir(data_dir)"
   ]
  },
  {
   "cell_type": "markdown",
   "metadata": {},
   "source": [
    "Let us save and upload our work to Jovian before continuing."
   ]
  },
  {
   "cell_type": "code",
   "execution_count": 23,
   "metadata": {},
   "outputs": [],
   "source": [
    "project_name = \"netflix-movies-and-tv-shows\" "
   ]
  },
  {
   "cell_type": "code",
   "execution_count": 24,
   "metadata": {},
   "outputs": [],
   "source": [
    "!pip install jovian --upgrade -q"
   ]
  },
  {
   "cell_type": "code",
   "execution_count": 25,
   "metadata": {},
   "outputs": [],
   "source": [
    "import jovian"
   ]
  },
  {
   "cell_type": "code",
   "execution_count": 26,
   "metadata": {},
   "outputs": [
    {
     "data": {
      "application/javascript": [
       "window.require && require([\"base/js/namespace\"],function(Jupyter){Jupyter.notebook.save_checkpoint()})"
      ],
      "text/plain": [
       "<IPython.core.display.Javascript object>"
      ]
     },
     "metadata": {},
     "output_type": "display_data"
    },
    {
     "name": "stdout",
     "output_type": "stream",
     "text": [
      "[jovian] Updating notebook \"07poojapal/netflix-movies-and-tv-shows\" on https://jovian.com\u001b[0m\n",
      "[jovian] Committed successfully! https://jovian.com/07poojapal/netflix-movies-and-tv-shows\u001b[0m\n"
     ]
    },
    {
     "data": {
      "text/plain": [
       "'https://jovian.com/07poojapal/netflix-movies-and-tv-shows'"
      ]
     },
     "execution_count": 26,
     "metadata": {},
     "output_type": "execute_result"
    }
   ],
   "source": [
    "jovian.commit(project=project_name)"
   ]
  },
  {
   "cell_type": "markdown",
   "metadata": {},
   "source": [
    "## Data Preparation and Cleaning\n",
    "\n",
    "Now the dataset is loaded we would do some cleaning and prepare the data for analysis\n",
    "\n"
   ]
  },
  {
   "cell_type": "code",
   "execution_count": 27,
   "metadata": {},
   "outputs": [],
   "source": [
    "import pandas as pd"
   ]
  },
  {
   "cell_type": "code",
   "execution_count": 28,
   "metadata": {},
   "outputs": [],
   "source": [
    "data_titles_df = pd.read_csv(data_dir + \"/titles.csv\") # pd.read_csv will import a CSV file to dataframe format. "
   ]
  },
  {
   "cell_type": "code",
   "execution_count": 29,
   "metadata": {},
   "outputs": [],
   "source": [
    "data_credits_df = pd.read_csv(data_dir + \"/credits.csv\")"
   ]
  },
  {
   "cell_type": "code",
   "execution_count": 30,
   "metadata": {},
   "outputs": [
    {
     "name": "stdout",
     "output_type": "stream",
     "text": [
      "<class 'pandas.core.frame.DataFrame'>\n",
      "RangeIndex: 6137 entries, 0 to 6136\n",
      "Data columns (total 15 columns):\n",
      " #   Column                Non-Null Count  Dtype  \n",
      "---  ------                --------------  -----  \n",
      " 0   id                    6137 non-null   object \n",
      " 1   title                 6137 non-null   object \n",
      " 2   type                  6137 non-null   object \n",
      " 3   description           6114 non-null   object \n",
      " 4   release_year          6137 non-null   int64  \n",
      " 5   age_certification     3394 non-null   object \n",
      " 6   runtime               6137 non-null   int64  \n",
      " 7   genres                6137 non-null   object \n",
      " 8   production_countries  6137 non-null   object \n",
      " 9   seasons               2306 non-null   float64\n",
      " 10  imdb_id               5741 non-null   object \n",
      " 11  imdb_score            5669 non-null   float64\n",
      " 12  imdb_votes            5653 non-null   float64\n",
      " 13  tmdb_popularity       6061 non-null   float64\n",
      " 14  tmdb_score            5885 non-null   float64\n",
      "dtypes: float64(5), int64(2), object(8)\n",
      "memory usage: 719.3+ KB\n"
     ]
    }
   ],
   "source": [
    "data_titles_df.info() #info() is used to give the no of non null entries in each column with the datatype"
   ]
  },
  {
   "cell_type": "code",
   "execution_count": 31,
   "metadata": {},
   "outputs": [
    {
     "data": {
      "text/html": [
       "<div>\n",
       "<style scoped>\n",
       "    .dataframe tbody tr th:only-of-type {\n",
       "        vertical-align: middle;\n",
       "    }\n",
       "\n",
       "    .dataframe tbody tr th {\n",
       "        vertical-align: top;\n",
       "    }\n",
       "\n",
       "    .dataframe thead th {\n",
       "        text-align: right;\n",
       "    }\n",
       "</style>\n",
       "<table border=\"1\" class=\"dataframe\">\n",
       "  <thead>\n",
       "    <tr style=\"text-align: right;\">\n",
       "      <th></th>\n",
       "      <th>release_year</th>\n",
       "      <th>runtime</th>\n",
       "      <th>seasons</th>\n",
       "      <th>imdb_score</th>\n",
       "      <th>imdb_votes</th>\n",
       "      <th>tmdb_popularity</th>\n",
       "      <th>tmdb_score</th>\n",
       "    </tr>\n",
       "  </thead>\n",
       "  <tbody>\n",
       "    <tr>\n",
       "      <th>count</th>\n",
       "      <td>6137.000000</td>\n",
       "      <td>6137.000000</td>\n",
       "      <td>2306.000000</td>\n",
       "      <td>5669.000000</td>\n",
       "      <td>5.653000e+03</td>\n",
       "      <td>6061.000000</td>\n",
       "      <td>5885.000000</td>\n",
       "    </tr>\n",
       "    <tr>\n",
       "      <th>mean</th>\n",
       "      <td>2017.371843</td>\n",
       "      <td>76.381946</td>\n",
       "      <td>2.106678</td>\n",
       "      <td>6.540942</td>\n",
       "      <td>2.115029e+04</td>\n",
       "      <td>19.267196</td>\n",
       "      <td>6.633194</td>\n",
       "    </tr>\n",
       "    <tr>\n",
       "      <th>std</th>\n",
       "      <td>6.603620</td>\n",
       "      <td>39.086828</td>\n",
       "      <td>2.716844</td>\n",
       "      <td>1.135944</td>\n",
       "      <td>9.254225e+04</td>\n",
       "      <td>51.291407</td>\n",
       "      <td>1.251610</td>\n",
       "    </tr>\n",
       "    <tr>\n",
       "      <th>min</th>\n",
       "      <td>1945.000000</td>\n",
       "      <td>0.000000</td>\n",
       "      <td>1.000000</td>\n",
       "      <td>1.500000</td>\n",
       "      <td>5.000000e+00</td>\n",
       "      <td>0.009442</td>\n",
       "      <td>0.500000</td>\n",
       "    </tr>\n",
       "    <tr>\n",
       "      <th>25%</th>\n",
       "      <td>2017.000000</td>\n",
       "      <td>44.000000</td>\n",
       "      <td>1.000000</td>\n",
       "      <td>5.800000</td>\n",
       "      <td>5.170000e+02</td>\n",
       "      <td>3.381000</td>\n",
       "      <td>6.000000</td>\n",
       "    </tr>\n",
       "    <tr>\n",
       "      <th>50%</th>\n",
       "      <td>2019.000000</td>\n",
       "      <td>80.000000</td>\n",
       "      <td>1.000000</td>\n",
       "      <td>6.600000</td>\n",
       "      <td>2.095000e+03</td>\n",
       "      <td>7.580000</td>\n",
       "      <td>6.791000</td>\n",
       "    </tr>\n",
       "    <tr>\n",
       "      <th>75%</th>\n",
       "      <td>2021.000000</td>\n",
       "      <td>105.000000</td>\n",
       "      <td>2.000000</td>\n",
       "      <td>7.300000</td>\n",
       "      <td>8.884000e+03</td>\n",
       "      <td>16.523000</td>\n",
       "      <td>7.400000</td>\n",
       "    </tr>\n",
       "    <tr>\n",
       "      <th>max</th>\n",
       "      <td>2023.000000</td>\n",
       "      <td>225.000000</td>\n",
       "      <td>44.000000</td>\n",
       "      <td>9.600000</td>\n",
       "      <td>2.684317e+06</td>\n",
       "      <td>1078.637000</td>\n",
       "      <td>10.000000</td>\n",
       "    </tr>\n",
       "  </tbody>\n",
       "</table>\n",
       "</div>"
      ],
      "text/plain": [
       "       release_year      runtime      seasons   imdb_score    imdb_votes  \\\n",
       "count   6137.000000  6137.000000  2306.000000  5669.000000  5.653000e+03   \n",
       "mean    2017.371843    76.381946     2.106678     6.540942  2.115029e+04   \n",
       "std        6.603620    39.086828     2.716844     1.135944  9.254225e+04   \n",
       "min     1945.000000     0.000000     1.000000     1.500000  5.000000e+00   \n",
       "25%     2017.000000    44.000000     1.000000     5.800000  5.170000e+02   \n",
       "50%     2019.000000    80.000000     1.000000     6.600000  2.095000e+03   \n",
       "75%     2021.000000   105.000000     2.000000     7.300000  8.884000e+03   \n",
       "max     2023.000000   225.000000    44.000000     9.600000  2.684317e+06   \n",
       "\n",
       "       tmdb_popularity   tmdb_score  \n",
       "count      6061.000000  5885.000000  \n",
       "mean         19.267196     6.633194  \n",
       "std          51.291407     1.251610  \n",
       "min           0.009442     0.500000  \n",
       "25%           3.381000     6.000000  \n",
       "50%           7.580000     6.791000  \n",
       "75%          16.523000     7.400000  \n",
       "max        1078.637000    10.000000  "
      ]
     },
     "execution_count": 31,
     "metadata": {},
     "output_type": "execute_result"
    }
   ],
   "source": [
    "data_titles_df.describe() #Pandas describe() is used to view some basic statistical details like percentile, mean, std, etc. \n",
    "# of a data frame or a series of numeric values.\n"
   ]
  },
  {
   "cell_type": "code",
   "execution_count": 32,
   "metadata": {},
   "outputs": [
    {
     "name": "stdout",
     "output_type": "stream",
     "text": [
      "<class 'pandas.core.frame.DataFrame'>\n",
      "RangeIndex: 81355 entries, 0 to 81354\n",
      "Data columns (total 5 columns):\n",
      " #   Column     Non-Null Count  Dtype \n",
      "---  ------     --------------  ----- \n",
      " 0   person_id  81355 non-null  int64 \n",
      " 1   id         81355 non-null  object\n",
      " 2   name       81355 non-null  object\n",
      " 3   character  70532 non-null  object\n",
      " 4   role       81355 non-null  object\n",
      "dtypes: int64(1), object(4)\n",
      "memory usage: 3.1+ MB\n"
     ]
    }
   ],
   "source": [
    "data_credits_df.info()"
   ]
  },
  {
   "cell_type": "code",
   "execution_count": 33,
   "metadata": {},
   "outputs": [
    {
     "data": {
      "text/html": [
       "<div>\n",
       "<style scoped>\n",
       "    .dataframe tbody tr th:only-of-type {\n",
       "        vertical-align: middle;\n",
       "    }\n",
       "\n",
       "    .dataframe tbody tr th {\n",
       "        vertical-align: top;\n",
       "    }\n",
       "\n",
       "    .dataframe thead th {\n",
       "        text-align: right;\n",
       "    }\n",
       "</style>\n",
       "<table border=\"1\" class=\"dataframe\">\n",
       "  <thead>\n",
       "    <tr style=\"text-align: right;\">\n",
       "      <th></th>\n",
       "      <th>person_id</th>\n",
       "    </tr>\n",
       "  </thead>\n",
       "  <tbody>\n",
       "    <tr>\n",
       "      <th>count</th>\n",
       "      <td>8.135500e+04</td>\n",
       "    </tr>\n",
       "    <tr>\n",
       "      <th>mean</th>\n",
       "      <td>6.269059e+05</td>\n",
       "    </tr>\n",
       "    <tr>\n",
       "      <th>std</th>\n",
       "      <td>7.383898e+05</td>\n",
       "    </tr>\n",
       "    <tr>\n",
       "      <th>min</th>\n",
       "      <td>7.000000e+00</td>\n",
       "    </tr>\n",
       "    <tr>\n",
       "      <th>25%</th>\n",
       "      <td>5.883400e+04</td>\n",
       "    </tr>\n",
       "    <tr>\n",
       "      <th>50%</th>\n",
       "      <td>2.425080e+05</td>\n",
       "    </tr>\n",
       "    <tr>\n",
       "      <th>75%</th>\n",
       "      <td>1.037428e+06</td>\n",
       "    </tr>\n",
       "    <tr>\n",
       "      <th>max</th>\n",
       "      <td>2.771013e+06</td>\n",
       "    </tr>\n",
       "  </tbody>\n",
       "</table>\n",
       "</div>"
      ],
      "text/plain": [
       "          person_id\n",
       "count  8.135500e+04\n",
       "mean   6.269059e+05\n",
       "std    7.383898e+05\n",
       "min    7.000000e+00\n",
       "25%    5.883400e+04\n",
       "50%    2.425080e+05\n",
       "75%    1.037428e+06\n",
       "max    2.771013e+06"
      ]
     },
     "execution_count": 33,
     "metadata": {},
     "output_type": "execute_result"
    }
   ],
   "source": [
    "data_credits_df.describe()"
   ]
  },
  {
   "cell_type": "code",
   "execution_count": 34,
   "metadata": {},
   "outputs": [],
   "source": [
    "import jovian"
   ]
  },
  {
   "cell_type": "code",
   "execution_count": 35,
   "metadata": {},
   "outputs": [
    {
     "data": {
      "application/javascript": [
       "window.require && require([\"base/js/namespace\"],function(Jupyter){Jupyter.notebook.save_checkpoint()})"
      ],
      "text/plain": [
       "<IPython.core.display.Javascript object>"
      ]
     },
     "metadata": {},
     "output_type": "display_data"
    },
    {
     "name": "stdout",
     "output_type": "stream",
     "text": [
      "[jovian] Updating notebook \"07poojapal/netflix-movies-and-tv-shows\" on https://jovian.com\u001b[0m\n",
      "[jovian] Committed successfully! https://jovian.com/07poojapal/netflix-movies-and-tv-shows\u001b[0m\n"
     ]
    },
    {
     "data": {
      "text/plain": [
       "'https://jovian.com/07poojapal/netflix-movies-and-tv-shows'"
      ]
     },
     "execution_count": 35,
     "metadata": {},
     "output_type": "execute_result"
    }
   ],
   "source": [
    "jovian.commit()"
   ]
  },
  {
   "cell_type": "markdown",
   "metadata": {},
   "source": [
    "### Handling null values"
   ]
  },
  {
   "cell_type": "markdown",
   "metadata": {},
   "source": [
    "It is really important to check how many values are null so that we can remove them or replace them with some default value. Here for the titles.csv file has null values for description,age_certification,seasons,imdb_db,imdb_Score,tmdb_popularity,tmdb_score\n",
    "The credits.csv has null values for character\n",
    "We will use dropna to drop some rows of column which has less number of null values and will replace the rows with defualt values which has higher number of null values. "
   ]
  },
  {
   "cell_type": "code",
   "execution_count": 36,
   "metadata": {},
   "outputs": [
    {
     "data": {
      "text/plain": [
       "id                         0\n",
       "title                      0\n",
       "type                       0\n",
       "description               23\n",
       "release_year               0\n",
       "age_certification       2743\n",
       "runtime                    0\n",
       "genres                     0\n",
       "production_countries       0\n",
       "seasons                 3831\n",
       "imdb_id                  396\n",
       "imdb_score               468\n",
       "imdb_votes               484\n",
       "tmdb_popularity           76\n",
       "tmdb_score               252\n",
       "dtype: int64"
      ]
     },
     "execution_count": 36,
     "metadata": {},
     "output_type": "execute_result"
    }
   ],
   "source": [
    "data_titles_df.isnull().sum()"
   ]
  },
  {
   "cell_type": "code",
   "execution_count": 37,
   "metadata": {},
   "outputs": [],
   "source": [
    "data_titles_df = data_titles_df.dropna(subset=['imdb_id','imdb_score','imdb_votes','tmdb_popularity','tmdb_score'])"
   ]
  },
  {
   "cell_type": "markdown",
   "metadata": {},
   "source": [
    "#### We are using dropna function here to drop/remove the rows which have nan values. As seen above there are many columns which have nan values for some I chose to remove and for some I will replace with some default value. Now the question is which one to remove and which one to replace. So for the columns having more nan values I have replaced but the ones with less value I removed them using dropna. "
   ]
  },
  {
   "cell_type": "code",
   "execution_count": 38,
   "metadata": {},
   "outputs": [],
   "source": [
    "import jovian"
   ]
  },
  {
   "cell_type": "code",
   "execution_count": 39,
   "metadata": {},
   "outputs": [
    {
     "data": {
      "application/javascript": [
       "window.require && require([\"base/js/namespace\"],function(Jupyter){Jupyter.notebook.save_checkpoint()})"
      ],
      "text/plain": [
       "<IPython.core.display.Javascript object>"
      ]
     },
     "metadata": {},
     "output_type": "display_data"
    },
    {
     "name": "stdout",
     "output_type": "stream",
     "text": [
      "[jovian] Updating notebook \"07poojapal/netflix-movies-and-tv-shows\" on https://jovian.com\u001b[0m\n",
      "[jovian] Committed successfully! https://jovian.com/07poojapal/netflix-movies-and-tv-shows\u001b[0m\n"
     ]
    },
    {
     "data": {
      "text/plain": [
       "'https://jovian.com/07poojapal/netflix-movies-and-tv-shows'"
      ]
     },
     "execution_count": 39,
     "metadata": {},
     "output_type": "execute_result"
    }
   ],
   "source": [
    "jovian.commit()"
   ]
  },
  {
   "cell_type": "code",
   "execution_count": 40,
   "metadata": {},
   "outputs": [
    {
     "data": {
      "text/plain": [
       "id                         0\n",
       "title                      0\n",
       "type                       0\n",
       "description                2\n",
       "release_year               0\n",
       "age_certification       2333\n",
       "runtime                    0\n",
       "genres                     0\n",
       "production_countries       0\n",
       "seasons                 3391\n",
       "imdb_id                    0\n",
       "imdb_score                 0\n",
       "imdb_votes                 0\n",
       "tmdb_popularity            0\n",
       "tmdb_score                 0\n",
       "dtype: int64"
      ]
     },
     "execution_count": 40,
     "metadata": {},
     "output_type": "execute_result"
    }
   ],
   "source": [
    "data_titles_df.isnull().sum()"
   ]
  },
  {
   "cell_type": "code",
   "execution_count": 41,
   "metadata": {},
   "outputs": [],
   "source": [
    "data_titles_df = data_titles_df.fillna({'description' : 'Not available','age_certification': 'Not available','seasons' : 'Not applicable'})"
   ]
  },
  {
   "cell_type": "code",
   "execution_count": 42,
   "metadata": {},
   "outputs": [
    {
     "data": {
      "text/plain": [
       "person_id        0\n",
       "id               0\n",
       "name             0\n",
       "character    10823\n",
       "role             0\n",
       "dtype: int64"
      ]
     },
     "execution_count": 42,
     "metadata": {},
     "output_type": "execute_result"
    }
   ],
   "source": [
    "data_credits_df.isnull().sum()"
   ]
  },
  {
   "cell_type": "code",
   "execution_count": 43,
   "metadata": {},
   "outputs": [],
   "source": [
    "data_credits_df = data_credits_df.fillna({'character' : 'Not available'})"
   ]
  },
  {
   "cell_type": "code",
   "execution_count": 44,
   "metadata": {},
   "outputs": [
    {
     "data": {
      "application/javascript": [
       "window.require && require([\"base/js/namespace\"],function(Jupyter){Jupyter.notebook.save_checkpoint()})"
      ],
      "text/plain": [
       "<IPython.core.display.Javascript object>"
      ]
     },
     "metadata": {},
     "output_type": "display_data"
    },
    {
     "name": "stdout",
     "output_type": "stream",
     "text": [
      "[jovian] Updating notebook \"07poojapal/netflix-movies-and-tv-shows\" on https://jovian.com\u001b[0m\n",
      "[jovian] Committed successfully! https://jovian.com/07poojapal/netflix-movies-and-tv-shows\u001b[0m\n"
     ]
    },
    {
     "data": {
      "text/plain": [
       "'https://jovian.com/07poojapal/netflix-movies-and-tv-shows'"
      ]
     },
     "execution_count": 44,
     "metadata": {},
     "output_type": "execute_result"
    }
   ],
   "source": [
    "jovian.commit()"
   ]
  },
  {
   "cell_type": "code",
   "execution_count": 45,
   "metadata": {},
   "outputs": [
    {
     "data": {
      "text/html": [
       "<div>\n",
       "<style scoped>\n",
       "    .dataframe tbody tr th:only-of-type {\n",
       "        vertical-align: middle;\n",
       "    }\n",
       "\n",
       "    .dataframe tbody tr th {\n",
       "        vertical-align: top;\n",
       "    }\n",
       "\n",
       "    .dataframe thead th {\n",
       "        text-align: right;\n",
       "    }\n",
       "</style>\n",
       "<table border=\"1\" class=\"dataframe\">\n",
       "  <thead>\n",
       "    <tr style=\"text-align: right;\">\n",
       "      <th></th>\n",
       "      <th>id</th>\n",
       "      <th>title</th>\n",
       "      <th>type</th>\n",
       "      <th>description</th>\n",
       "      <th>release_year</th>\n",
       "      <th>age_certification</th>\n",
       "      <th>runtime</th>\n",
       "      <th>genres</th>\n",
       "      <th>production_countries</th>\n",
       "      <th>seasons</th>\n",
       "      <th>imdb_id</th>\n",
       "      <th>imdb_score</th>\n",
       "      <th>imdb_votes</th>\n",
       "      <th>tmdb_popularity</th>\n",
       "      <th>tmdb_score</th>\n",
       "    </tr>\n",
       "  </thead>\n",
       "  <tbody>\n",
       "    <tr>\n",
       "      <th>1</th>\n",
       "      <td>tm82169</td>\n",
       "      <td>Rocky</td>\n",
       "      <td>MOVIE</td>\n",
       "      <td>When world heavyweight boxing champion, Apollo...</td>\n",
       "      <td>1976</td>\n",
       "      <td>PG</td>\n",
       "      <td>119</td>\n",
       "      <td>['drama', 'sport']</td>\n",
       "      <td>['US']</td>\n",
       "      <td>Not applicable</td>\n",
       "      <td>tt0075148</td>\n",
       "      <td>8.1</td>\n",
       "      <td>588100.0</td>\n",
       "      <td>106.361</td>\n",
       "      <td>7.782</td>\n",
       "    </tr>\n",
       "    <tr>\n",
       "      <th>2</th>\n",
       "      <td>tm17823</td>\n",
       "      <td>Grease</td>\n",
       "      <td>MOVIE</td>\n",
       "      <td>Australian good girl Sandy and greaser Danny f...</td>\n",
       "      <td>1978</td>\n",
       "      <td>PG</td>\n",
       "      <td>110</td>\n",
       "      <td>['romance', 'comedy']</td>\n",
       "      <td>['US']</td>\n",
       "      <td>Not applicable</td>\n",
       "      <td>tt0077631</td>\n",
       "      <td>7.2</td>\n",
       "      <td>283316.0</td>\n",
       "      <td>33.160</td>\n",
       "      <td>7.406</td>\n",
       "    </tr>\n",
       "    <tr>\n",
       "      <th>3</th>\n",
       "      <td>tm191099</td>\n",
       "      <td>The Sting</td>\n",
       "      <td>MOVIE</td>\n",
       "      <td>A novice con man teams up with an acknowledged...</td>\n",
       "      <td>1973</td>\n",
       "      <td>PG</td>\n",
       "      <td>129</td>\n",
       "      <td>['crime', 'drama', 'comedy', 'music']</td>\n",
       "      <td>['US']</td>\n",
       "      <td>Not applicable</td>\n",
       "      <td>tt0070735</td>\n",
       "      <td>8.3</td>\n",
       "      <td>266738.0</td>\n",
       "      <td>24.616</td>\n",
       "      <td>8.020</td>\n",
       "    </tr>\n",
       "    <tr>\n",
       "      <th>4</th>\n",
       "      <td>tm69975</td>\n",
       "      <td>Rocky II</td>\n",
       "      <td>MOVIE</td>\n",
       "      <td>After Rocky goes the distance with champ Apoll...</td>\n",
       "      <td>1979</td>\n",
       "      <td>PG</td>\n",
       "      <td>119</td>\n",
       "      <td>['drama', 'sport']</td>\n",
       "      <td>['US']</td>\n",
       "      <td>Not applicable</td>\n",
       "      <td>tt0079817</td>\n",
       "      <td>7.3</td>\n",
       "      <td>216307.0</td>\n",
       "      <td>75.699</td>\n",
       "      <td>7.246</td>\n",
       "    </tr>\n",
       "    <tr>\n",
       "      <th>5</th>\n",
       "      <td>tm127384</td>\n",
       "      <td>Monty Python and the Holy Grail</td>\n",
       "      <td>MOVIE</td>\n",
       "      <td>King Arthur, accompanied by his squire, recrui...</td>\n",
       "      <td>1975</td>\n",
       "      <td>PG</td>\n",
       "      <td>91</td>\n",
       "      <td>['fantasy', 'comedy']</td>\n",
       "      <td>['GB']</td>\n",
       "      <td>Not applicable</td>\n",
       "      <td>tt0071853</td>\n",
       "      <td>8.2</td>\n",
       "      <td>547292.0</td>\n",
       "      <td>20.964</td>\n",
       "      <td>7.804</td>\n",
       "    </tr>\n",
       "  </tbody>\n",
       "</table>\n",
       "</div>"
      ],
      "text/plain": [
       "         id                            title   type  \\\n",
       "1   tm82169                            Rocky  MOVIE   \n",
       "2   tm17823                           Grease  MOVIE   \n",
       "3  tm191099                        The Sting  MOVIE   \n",
       "4   tm69975                         Rocky II  MOVIE   \n",
       "5  tm127384  Monty Python and the Holy Grail  MOVIE   \n",
       "\n",
       "                                         description  release_year  \\\n",
       "1  When world heavyweight boxing champion, Apollo...          1976   \n",
       "2  Australian good girl Sandy and greaser Danny f...          1978   \n",
       "3  A novice con man teams up with an acknowledged...          1973   \n",
       "4  After Rocky goes the distance with champ Apoll...          1979   \n",
       "5  King Arthur, accompanied by his squire, recrui...          1975   \n",
       "\n",
       "  age_certification  runtime                                 genres  \\\n",
       "1                PG      119                     ['drama', 'sport']   \n",
       "2                PG      110                  ['romance', 'comedy']   \n",
       "3                PG      129  ['crime', 'drama', 'comedy', 'music']   \n",
       "4                PG      119                     ['drama', 'sport']   \n",
       "5                PG       91                  ['fantasy', 'comedy']   \n",
       "\n",
       "  production_countries         seasons    imdb_id  imdb_score  imdb_votes  \\\n",
       "1               ['US']  Not applicable  tt0075148         8.1    588100.0   \n",
       "2               ['US']  Not applicable  tt0077631         7.2    283316.0   \n",
       "3               ['US']  Not applicable  tt0070735         8.3    266738.0   \n",
       "4               ['US']  Not applicable  tt0079817         7.3    216307.0   \n",
       "5               ['GB']  Not applicable  tt0071853         8.2    547292.0   \n",
       "\n",
       "   tmdb_popularity  tmdb_score  \n",
       "1          106.361       7.782  \n",
       "2           33.160       7.406  \n",
       "3           24.616       8.020  \n",
       "4           75.699       7.246  \n",
       "5           20.964       7.804  "
      ]
     },
     "execution_count": 45,
     "metadata": {},
     "output_type": "execute_result"
    }
   ],
   "source": [
    "data_titles_df.head()"
   ]
  },
  {
   "cell_type": "code",
   "execution_count": 46,
   "metadata": {
    "scrolled": true
   },
   "outputs": [
    {
     "data": {
      "text/html": [
       "<div>\n",
       "<style scoped>\n",
       "    .dataframe tbody tr th:only-of-type {\n",
       "        vertical-align: middle;\n",
       "    }\n",
       "\n",
       "    .dataframe tbody tr th {\n",
       "        vertical-align: top;\n",
       "    }\n",
       "\n",
       "    .dataframe thead th {\n",
       "        text-align: right;\n",
       "    }\n",
       "</style>\n",
       "<table border=\"1\" class=\"dataframe\">\n",
       "  <thead>\n",
       "    <tr style=\"text-align: right;\">\n",
       "      <th></th>\n",
       "      <th>id</th>\n",
       "      <th>title</th>\n",
       "      <th>type</th>\n",
       "      <th>description</th>\n",
       "      <th>release_year</th>\n",
       "      <th>age_certification</th>\n",
       "      <th>runtime</th>\n",
       "      <th>genres</th>\n",
       "      <th>production_countries</th>\n",
       "      <th>seasons</th>\n",
       "      <th>imdb_id</th>\n",
       "      <th>imdb_score</th>\n",
       "      <th>imdb_votes</th>\n",
       "      <th>tmdb_popularity</th>\n",
       "      <th>tmdb_score</th>\n",
       "    </tr>\n",
       "  </thead>\n",
       "  <tbody>\n",
       "    <tr>\n",
       "      <th>6128</th>\n",
       "      <td>tm1307029</td>\n",
       "      <td>Married to Work</td>\n",
       "      <td>MOVIE</td>\n",
       "      <td>To save their real estate agency, an ambitious...</td>\n",
       "      <td>2023</td>\n",
       "      <td>Not available</td>\n",
       "      <td>76</td>\n",
       "      <td>['comedy', 'romance']</td>\n",
       "      <td>['KE', 'TZ', 'NG']</td>\n",
       "      <td>Not applicable</td>\n",
       "      <td>tt26687699</td>\n",
       "      <td>7.5</td>\n",
       "      <td>25.0</td>\n",
       "      <td>8.446</td>\n",
       "      <td>3.8</td>\n",
       "    </tr>\n",
       "    <tr>\n",
       "      <th>6129</th>\n",
       "      <td>tm1304174</td>\n",
       "      <td>Thalaikoothal</td>\n",
       "      <td>MOVIE</td>\n",
       "      <td>A man's long battle to save his comatose fathe...</td>\n",
       "      <td>2023</td>\n",
       "      <td>Not available</td>\n",
       "      <td>142</td>\n",
       "      <td>['drama']</td>\n",
       "      <td>['IN']</td>\n",
       "      <td>Not applicable</td>\n",
       "      <td>tt16578852</td>\n",
       "      <td>8.4</td>\n",
       "      <td>96.0</td>\n",
       "      <td>5.665</td>\n",
       "      <td>7.0</td>\n",
       "    </tr>\n",
       "    <tr>\n",
       "      <th>6130</th>\n",
       "      <td>tm1299701</td>\n",
       "      <td>Dr Jason Leong: Ride with Caution</td>\n",
       "      <td>MOVIE</td>\n",
       "      <td>The comic shares his diagnoses on ageing, the ...</td>\n",
       "      <td>2023</td>\n",
       "      <td>Not available</td>\n",
       "      <td>65</td>\n",
       "      <td>['comedy']</td>\n",
       "      <td>['MY']</td>\n",
       "      <td>Not applicable</td>\n",
       "      <td>tt26340263</td>\n",
       "      <td>5.9</td>\n",
       "      <td>102.0</td>\n",
       "      <td>5.379</td>\n",
       "      <td>2.0</td>\n",
       "    </tr>\n",
       "    <tr>\n",
       "      <th>6133</th>\n",
       "      <td>tm1260999</td>\n",
       "      <td>Sweetie</td>\n",
       "      <td>MOVIE</td>\n",
       "      <td>‘Theatre is my life,’ Yıldız Kenter admits in ...</td>\n",
       "      <td>2023</td>\n",
       "      <td>Not available</td>\n",
       "      <td>120</td>\n",
       "      <td>['documentation']</td>\n",
       "      <td>['TR']</td>\n",
       "      <td>Not applicable</td>\n",
       "      <td>tt26349328</td>\n",
       "      <td>7.9</td>\n",
       "      <td>209.0</td>\n",
       "      <td>2.450</td>\n",
       "      <td>7.2</td>\n",
       "    </tr>\n",
       "    <tr>\n",
       "      <th>6135</th>\n",
       "      <td>tm1072700</td>\n",
       "      <td>All Na Vibes</td>\n",
       "      <td>MOVIE</td>\n",
       "      <td>The lives of three teenagers and a hit-man int...</td>\n",
       "      <td>2023</td>\n",
       "      <td>Not available</td>\n",
       "      <td>80</td>\n",
       "      <td>['drama']</td>\n",
       "      <td>['NG']</td>\n",
       "      <td>Not applicable</td>\n",
       "      <td>tt14922926</td>\n",
       "      <td>5.2</td>\n",
       "      <td>18.0</td>\n",
       "      <td>1.357</td>\n",
       "      <td>4.0</td>\n",
       "    </tr>\n",
       "  </tbody>\n",
       "</table>\n",
       "</div>"
      ],
      "text/plain": [
       "             id                              title   type  \\\n",
       "6128  tm1307029                    Married to Work  MOVIE   \n",
       "6129  tm1304174                      Thalaikoothal  MOVIE   \n",
       "6130  tm1299701  Dr Jason Leong: Ride with Caution  MOVIE   \n",
       "6133  tm1260999                            Sweetie  MOVIE   \n",
       "6135  tm1072700                       All Na Vibes  MOVIE   \n",
       "\n",
       "                                            description  release_year  \\\n",
       "6128  To save their real estate agency, an ambitious...          2023   \n",
       "6129  A man's long battle to save his comatose fathe...          2023   \n",
       "6130  The comic shares his diagnoses on ageing, the ...          2023   \n",
       "6133  ‘Theatre is my life,’ Yıldız Kenter admits in ...          2023   \n",
       "6135  The lives of three teenagers and a hit-man int...          2023   \n",
       "\n",
       "     age_certification  runtime                 genres production_countries  \\\n",
       "6128     Not available       76  ['comedy', 'romance']   ['KE', 'TZ', 'NG']   \n",
       "6129     Not available      142              ['drama']               ['IN']   \n",
       "6130     Not available       65             ['comedy']               ['MY']   \n",
       "6133     Not available      120      ['documentation']               ['TR']   \n",
       "6135     Not available       80              ['drama']               ['NG']   \n",
       "\n",
       "             seasons     imdb_id  imdb_score  imdb_votes  tmdb_popularity  \\\n",
       "6128  Not applicable  tt26687699         7.5        25.0            8.446   \n",
       "6129  Not applicable  tt16578852         8.4        96.0            5.665   \n",
       "6130  Not applicable  tt26340263         5.9       102.0            5.379   \n",
       "6133  Not applicable  tt26349328         7.9       209.0            2.450   \n",
       "6135  Not applicable  tt14922926         5.2        18.0            1.357   \n",
       "\n",
       "      tmdb_score  \n",
       "6128         3.8  \n",
       "6129         7.0  \n",
       "6130         2.0  \n",
       "6133         7.2  \n",
       "6135         4.0  "
      ]
     },
     "execution_count": 46,
     "metadata": {},
     "output_type": "execute_result"
    }
   ],
   "source": [
    "data_titles_df.tail()"
   ]
  },
  {
   "cell_type": "code",
   "execution_count": 35,
   "metadata": {},
   "outputs": [
    {
     "data": {
      "text/html": [
       "<div>\n",
       "<style scoped>\n",
       "    .dataframe tbody tr th:only-of-type {\n",
       "        vertical-align: middle;\n",
       "    }\n",
       "\n",
       "    .dataframe tbody tr th {\n",
       "        vertical-align: top;\n",
       "    }\n",
       "\n",
       "    .dataframe thead th {\n",
       "        text-align: right;\n",
       "    }\n",
       "</style>\n",
       "<table border=\"1\" class=\"dataframe\">\n",
       "  <thead>\n",
       "    <tr style=\"text-align: right;\">\n",
       "      <th></th>\n",
       "      <th>id</th>\n",
       "      <th>title</th>\n",
       "      <th>type</th>\n",
       "      <th>description</th>\n",
       "      <th>release_year</th>\n",
       "      <th>age_certification</th>\n",
       "      <th>runtime</th>\n",
       "      <th>genres</th>\n",
       "      <th>production_countries</th>\n",
       "      <th>seasons</th>\n",
       "      <th>imdb_id</th>\n",
       "      <th>imdb_score</th>\n",
       "      <th>imdb_votes</th>\n",
       "      <th>tmdb_popularity</th>\n",
       "      <th>tmdb_score</th>\n",
       "    </tr>\n",
       "  </thead>\n",
       "  <tbody>\n",
       "    <tr>\n",
       "      <th>1</th>\n",
       "      <td>tm82169</td>\n",
       "      <td>Rocky</td>\n",
       "      <td>MOVIE</td>\n",
       "      <td>When world heavyweight boxing champion, Apollo...</td>\n",
       "      <td>1976</td>\n",
       "      <td>PG</td>\n",
       "      <td>119</td>\n",
       "      <td>['drama', 'sport']</td>\n",
       "      <td>['US']</td>\n",
       "      <td>Not applicable</td>\n",
       "      <td>tt0075148</td>\n",
       "      <td>8.1</td>\n",
       "      <td>588100.0</td>\n",
       "      <td>106.361</td>\n",
       "      <td>7.782</td>\n",
       "    </tr>\n",
       "    <tr>\n",
       "      <th>2</th>\n",
       "      <td>tm17823</td>\n",
       "      <td>Grease</td>\n",
       "      <td>MOVIE</td>\n",
       "      <td>Australian good girl Sandy and greaser Danny f...</td>\n",
       "      <td>1978</td>\n",
       "      <td>PG</td>\n",
       "      <td>110</td>\n",
       "      <td>['romance', 'comedy']</td>\n",
       "      <td>['US']</td>\n",
       "      <td>Not applicable</td>\n",
       "      <td>tt0077631</td>\n",
       "      <td>7.2</td>\n",
       "      <td>283316.0</td>\n",
       "      <td>33.160</td>\n",
       "      <td>7.406</td>\n",
       "    </tr>\n",
       "    <tr>\n",
       "      <th>3</th>\n",
       "      <td>tm191099</td>\n",
       "      <td>The Sting</td>\n",
       "      <td>MOVIE</td>\n",
       "      <td>A novice con man teams up with an acknowledged...</td>\n",
       "      <td>1973</td>\n",
       "      <td>PG</td>\n",
       "      <td>129</td>\n",
       "      <td>['crime', 'drama', 'comedy', 'music']</td>\n",
       "      <td>['US']</td>\n",
       "      <td>Not applicable</td>\n",
       "      <td>tt0070735</td>\n",
       "      <td>8.3</td>\n",
       "      <td>266738.0</td>\n",
       "      <td>24.616</td>\n",
       "      <td>8.020</td>\n",
       "    </tr>\n",
       "    <tr>\n",
       "      <th>4</th>\n",
       "      <td>tm69975</td>\n",
       "      <td>Rocky II</td>\n",
       "      <td>MOVIE</td>\n",
       "      <td>After Rocky goes the distance with champ Apoll...</td>\n",
       "      <td>1979</td>\n",
       "      <td>PG</td>\n",
       "      <td>119</td>\n",
       "      <td>['drama', 'sport']</td>\n",
       "      <td>['US']</td>\n",
       "      <td>Not applicable</td>\n",
       "      <td>tt0079817</td>\n",
       "      <td>7.3</td>\n",
       "      <td>216307.0</td>\n",
       "      <td>75.699</td>\n",
       "      <td>7.246</td>\n",
       "    </tr>\n",
       "    <tr>\n",
       "      <th>5</th>\n",
       "      <td>tm127384</td>\n",
       "      <td>Monty Python and the Holy Grail</td>\n",
       "      <td>MOVIE</td>\n",
       "      <td>King Arthur, accompanied by his squire, recrui...</td>\n",
       "      <td>1975</td>\n",
       "      <td>PG</td>\n",
       "      <td>91</td>\n",
       "      <td>['fantasy', 'comedy']</td>\n",
       "      <td>['GB']</td>\n",
       "      <td>Not applicable</td>\n",
       "      <td>tt0071853</td>\n",
       "      <td>8.2</td>\n",
       "      <td>547292.0</td>\n",
       "      <td>20.964</td>\n",
       "      <td>7.804</td>\n",
       "    </tr>\n",
       "    <tr>\n",
       "      <th>...</th>\n",
       "      <td>...</td>\n",
       "      <td>...</td>\n",
       "      <td>...</td>\n",
       "      <td>...</td>\n",
       "      <td>...</td>\n",
       "      <td>...</td>\n",
       "      <td>...</td>\n",
       "      <td>...</td>\n",
       "      <td>...</td>\n",
       "      <td>...</td>\n",
       "      <td>...</td>\n",
       "      <td>...</td>\n",
       "      <td>...</td>\n",
       "      <td>...</td>\n",
       "      <td>...</td>\n",
       "    </tr>\n",
       "    <tr>\n",
       "      <th>6128</th>\n",
       "      <td>tm1307029</td>\n",
       "      <td>Married to Work</td>\n",
       "      <td>MOVIE</td>\n",
       "      <td>To save their real estate agency, an ambitious...</td>\n",
       "      <td>2023</td>\n",
       "      <td>Not available</td>\n",
       "      <td>76</td>\n",
       "      <td>['comedy', 'romance']</td>\n",
       "      <td>['KE', 'TZ', 'NG']</td>\n",
       "      <td>Not applicable</td>\n",
       "      <td>tt26687699</td>\n",
       "      <td>7.5</td>\n",
       "      <td>25.0</td>\n",
       "      <td>8.446</td>\n",
       "      <td>3.800</td>\n",
       "    </tr>\n",
       "    <tr>\n",
       "      <th>6129</th>\n",
       "      <td>tm1304174</td>\n",
       "      <td>Thalaikoothal</td>\n",
       "      <td>MOVIE</td>\n",
       "      <td>A man's long battle to save his comatose fathe...</td>\n",
       "      <td>2023</td>\n",
       "      <td>Not available</td>\n",
       "      <td>142</td>\n",
       "      <td>['drama']</td>\n",
       "      <td>['IN']</td>\n",
       "      <td>Not applicable</td>\n",
       "      <td>tt16578852</td>\n",
       "      <td>8.4</td>\n",
       "      <td>96.0</td>\n",
       "      <td>5.665</td>\n",
       "      <td>7.000</td>\n",
       "    </tr>\n",
       "    <tr>\n",
       "      <th>6130</th>\n",
       "      <td>tm1299701</td>\n",
       "      <td>Dr Jason Leong: Ride with Caution</td>\n",
       "      <td>MOVIE</td>\n",
       "      <td>The comic shares his diagnoses on ageing, the ...</td>\n",
       "      <td>2023</td>\n",
       "      <td>Not available</td>\n",
       "      <td>65</td>\n",
       "      <td>['comedy']</td>\n",
       "      <td>['MY']</td>\n",
       "      <td>Not applicable</td>\n",
       "      <td>tt26340263</td>\n",
       "      <td>5.9</td>\n",
       "      <td>102.0</td>\n",
       "      <td>5.379</td>\n",
       "      <td>2.000</td>\n",
       "    </tr>\n",
       "    <tr>\n",
       "      <th>6133</th>\n",
       "      <td>tm1260999</td>\n",
       "      <td>Sweetie</td>\n",
       "      <td>MOVIE</td>\n",
       "      <td>‘Theatre is my life,’ Yıldız Kenter admits in ...</td>\n",
       "      <td>2023</td>\n",
       "      <td>Not available</td>\n",
       "      <td>120</td>\n",
       "      <td>['documentation']</td>\n",
       "      <td>['TR']</td>\n",
       "      <td>Not applicable</td>\n",
       "      <td>tt26349328</td>\n",
       "      <td>7.9</td>\n",
       "      <td>209.0</td>\n",
       "      <td>2.450</td>\n",
       "      <td>7.200</td>\n",
       "    </tr>\n",
       "    <tr>\n",
       "      <th>6135</th>\n",
       "      <td>tm1072700</td>\n",
       "      <td>All Na Vibes</td>\n",
       "      <td>MOVIE</td>\n",
       "      <td>The lives of three teenagers and a hit-man int...</td>\n",
       "      <td>2023</td>\n",
       "      <td>Not available</td>\n",
       "      <td>80</td>\n",
       "      <td>['drama']</td>\n",
       "      <td>['NG']</td>\n",
       "      <td>Not applicable</td>\n",
       "      <td>tt14922926</td>\n",
       "      <td>5.2</td>\n",
       "      <td>18.0</td>\n",
       "      <td>1.357</td>\n",
       "      <td>4.000</td>\n",
       "    </tr>\n",
       "  </tbody>\n",
       "</table>\n",
       "<p>5473 rows × 15 columns</p>\n",
       "</div>"
      ],
      "text/plain": [
       "             id                              title   type  \\\n",
       "1       tm82169                              Rocky  MOVIE   \n",
       "2       tm17823                             Grease  MOVIE   \n",
       "3      tm191099                          The Sting  MOVIE   \n",
       "4       tm69975                           Rocky II  MOVIE   \n",
       "5      tm127384    Monty Python and the Holy Grail  MOVIE   \n",
       "...         ...                                ...    ...   \n",
       "6128  tm1307029                    Married to Work  MOVIE   \n",
       "6129  tm1304174                      Thalaikoothal  MOVIE   \n",
       "6130  tm1299701  Dr Jason Leong: Ride with Caution  MOVIE   \n",
       "6133  tm1260999                            Sweetie  MOVIE   \n",
       "6135  tm1072700                       All Na Vibes  MOVIE   \n",
       "\n",
       "                                            description  release_year  \\\n",
       "1     When world heavyweight boxing champion, Apollo...          1976   \n",
       "2     Australian good girl Sandy and greaser Danny f...          1978   \n",
       "3     A novice con man teams up with an acknowledged...          1973   \n",
       "4     After Rocky goes the distance with champ Apoll...          1979   \n",
       "5     King Arthur, accompanied by his squire, recrui...          1975   \n",
       "...                                                 ...           ...   \n",
       "6128  To save their real estate agency, an ambitious...          2023   \n",
       "6129  A man's long battle to save his comatose fathe...          2023   \n",
       "6130  The comic shares his diagnoses on ageing, the ...          2023   \n",
       "6133  ‘Theatre is my life,’ Yıldız Kenter admits in ...          2023   \n",
       "6135  The lives of three teenagers and a hit-man int...          2023   \n",
       "\n",
       "     age_certification  runtime                                 genres  \\\n",
       "1                   PG      119                     ['drama', 'sport']   \n",
       "2                   PG      110                  ['romance', 'comedy']   \n",
       "3                   PG      129  ['crime', 'drama', 'comedy', 'music']   \n",
       "4                   PG      119                     ['drama', 'sport']   \n",
       "5                   PG       91                  ['fantasy', 'comedy']   \n",
       "...                ...      ...                                    ...   \n",
       "6128     Not available       76                  ['comedy', 'romance']   \n",
       "6129     Not available      142                              ['drama']   \n",
       "6130     Not available       65                             ['comedy']   \n",
       "6133     Not available      120                      ['documentation']   \n",
       "6135     Not available       80                              ['drama']   \n",
       "\n",
       "     production_countries         seasons     imdb_id  imdb_score  imdb_votes  \\\n",
       "1                  ['US']  Not applicable   tt0075148         8.1    588100.0   \n",
       "2                  ['US']  Not applicable   tt0077631         7.2    283316.0   \n",
       "3                  ['US']  Not applicable   tt0070735         8.3    266738.0   \n",
       "4                  ['US']  Not applicable   tt0079817         7.3    216307.0   \n",
       "5                  ['GB']  Not applicable   tt0071853         8.2    547292.0   \n",
       "...                   ...             ...         ...         ...         ...   \n",
       "6128   ['KE', 'TZ', 'NG']  Not applicable  tt26687699         7.5        25.0   \n",
       "6129               ['IN']  Not applicable  tt16578852         8.4        96.0   \n",
       "6130               ['MY']  Not applicable  tt26340263         5.9       102.0   \n",
       "6133               ['TR']  Not applicable  tt26349328         7.9       209.0   \n",
       "6135               ['NG']  Not applicable  tt14922926         5.2        18.0   \n",
       "\n",
       "      tmdb_popularity  tmdb_score  \n",
       "1             106.361       7.782  \n",
       "2              33.160       7.406  \n",
       "3              24.616       8.020  \n",
       "4              75.699       7.246  \n",
       "5              20.964       7.804  \n",
       "...               ...         ...  \n",
       "6128            8.446       3.800  \n",
       "6129            5.665       7.000  \n",
       "6130            5.379       2.000  \n",
       "6133            2.450       7.200  \n",
       "6135            1.357       4.000  \n",
       "\n",
       "[5473 rows x 15 columns]"
      ]
     },
     "execution_count": 35,
     "metadata": {},
     "output_type": "execute_result"
    }
   ],
   "source": [
    "data_titles_df"
   ]
  },
  {
   "cell_type": "code",
   "execution_count": 36,
   "metadata": {},
   "outputs": [
    {
     "data": {
      "text/html": [
       "<div>\n",
       "<style scoped>\n",
       "    .dataframe tbody tr th:only-of-type {\n",
       "        vertical-align: middle;\n",
       "    }\n",
       "\n",
       "    .dataframe tbody tr th {\n",
       "        vertical-align: top;\n",
       "    }\n",
       "\n",
       "    .dataframe thead th {\n",
       "        text-align: right;\n",
       "    }\n",
       "</style>\n",
       "<table border=\"1\" class=\"dataframe\">\n",
       "  <thead>\n",
       "    <tr style=\"text-align: right;\">\n",
       "      <th></th>\n",
       "      <th>person_id</th>\n",
       "      <th>id</th>\n",
       "      <th>name</th>\n",
       "      <th>character</th>\n",
       "      <th>role</th>\n",
       "    </tr>\n",
       "  </thead>\n",
       "  <tbody>\n",
       "    <tr>\n",
       "      <th>0</th>\n",
       "      <td>3180</td>\n",
       "      <td>tm82169</td>\n",
       "      <td>Sylvester Stallone</td>\n",
       "      <td>Robert \"Rocky\" Balboa</td>\n",
       "      <td>ACTOR</td>\n",
       "    </tr>\n",
       "    <tr>\n",
       "      <th>1</th>\n",
       "      <td>7748</td>\n",
       "      <td>tm82169</td>\n",
       "      <td>Talia Shire</td>\n",
       "      <td>Adrianna \"Adrian\" Pennino</td>\n",
       "      <td>ACTOR</td>\n",
       "    </tr>\n",
       "    <tr>\n",
       "      <th>2</th>\n",
       "      <td>7749</td>\n",
       "      <td>tm82169</td>\n",
       "      <td>Burt Young</td>\n",
       "      <td>Paulie Pennino</td>\n",
       "      <td>ACTOR</td>\n",
       "    </tr>\n",
       "    <tr>\n",
       "      <th>3</th>\n",
       "      <td>7750</td>\n",
       "      <td>tm82169</td>\n",
       "      <td>Carl Weathers</td>\n",
       "      <td>Apollo Creed</td>\n",
       "      <td>ACTOR</td>\n",
       "    </tr>\n",
       "    <tr>\n",
       "      <th>4</th>\n",
       "      <td>7751</td>\n",
       "      <td>tm82169</td>\n",
       "      <td>Burgess Meredith</td>\n",
       "      <td>Mickey Goldmill</td>\n",
       "      <td>ACTOR</td>\n",
       "    </tr>\n",
       "  </tbody>\n",
       "</table>\n",
       "</div>"
      ],
      "text/plain": [
       "   person_id       id                name                  character   role\n",
       "0       3180  tm82169  Sylvester Stallone      Robert \"Rocky\" Balboa  ACTOR\n",
       "1       7748  tm82169         Talia Shire  Adrianna \"Adrian\" Pennino  ACTOR\n",
       "2       7749  tm82169          Burt Young             Paulie Pennino  ACTOR\n",
       "3       7750  tm82169       Carl Weathers               Apollo Creed  ACTOR\n",
       "4       7751  tm82169    Burgess Meredith            Mickey Goldmill  ACTOR"
      ]
     },
     "execution_count": 36,
     "metadata": {},
     "output_type": "execute_result"
    }
   ],
   "source": [
    "data_credits_df.head()"
   ]
  },
  {
   "cell_type": "markdown",
   "metadata": {},
   "source": [
    "## Exploratory Analysis and Visualization\n",
    "\n",
    "EDA is applied to investigate the data and summarize the key insights\n"
   ]
  },
  {
   "cell_type": "markdown",
   "metadata": {},
   "source": [
    "The below information is taken from https://www.kaggle.com/datasets/dgoenrique/netflix-movies-and-tv-shows\n",
    "The titles.csv contains more than 6k titles, which contains 15 columns:\n",
    "\n",
    "id: The title ID on JustWatch. <br>\n",
    "title: The name of the title. <br>\n",
    "show_type: TV show or movie. <br>\n",
    "description: A brief description. <br>\n",
    "release_year: The release year. <br>\n",
    "age_certification: The age certification. <br>\n",
    "runtime: The length of the episode (SHOW) or movie.<br>\n",
    "genres: A list of genres.<br>\n",
    "production_countries: A list of countries that - produced the title.<br>\n",
    "seasons: Number of seasons if it's a SHOW. <br>\n",
    "imdb_id: The title ID on IMDB. <br>\n",
    "imdb_score: Score on IMDB.<br>\n",
    "imdb_votes: Votes on IMDB.<br>\n",
    "tmdb_popularity: Popularity on TMDB.<br>\n",
    "tmdb_score: Score on TMDB.<br>\n",
    "\n",
    "The credits.csv contains over 81k credits of actors and directors, with 5 columns containing:\n",
    "\n",
    "person_ID: The person ID on JustWatch.<br>\n",
    "id: The title ID on JustWatch.<br>\n",
    "name: The actor or director's name.<br>\n",
    "character_name: The character name.<br>\n",
    "role: ACTOR or DIRECTOR.<br>"
   ]
  },
  {
   "cell_type": "markdown",
   "metadata": {},
   "source": [
    "Types of plots(graphs) https://www.youtube.com/watch?v=csXmVBw8cdo\n",
    "\n",
    "1. To show Relationship - Scatter plot and Bubble chart\n",
    "2. To show Comparision - Bar chart and Line chart\n",
    "3. To show Distributions - Histograms and Box Plot\n",
    "4. To show Compositions - Pie chart,Stacked Bar chart and Stacked Area chart\n",
    "\n",
    "To know the world mostly used graphs - https://www.youtube.com/watch?v=o7F-tbBl_hA"
   ]
  },
  {
   "cell_type": "markdown",
   "metadata": {},
   "source": [
    "We will explore the titles data using Bar chart - So here I want to see the type and release year"
   ]
  },
  {
   "cell_type": "markdown",
   "metadata": {},
   "source": [
    "First we will have to convert the datatype of release year to datetime from int64 datatype. "
   ]
  },
  {
   "cell_type": "code",
   "execution_count": 37,
   "metadata": {},
   "outputs": [],
   "source": [
    "data_titles_df[\"Date\"] = pd.to_datetime(data_titles_df['release_year'])"
   ]
  },
  {
   "cell_type": "code",
   "execution_count": 38,
   "metadata": {},
   "outputs": [
    {
     "name": "stdout",
     "output_type": "stream",
     "text": [
      "<class 'pandas.core.frame.DataFrame'>\n",
      "Int64Index: 5473 entries, 1 to 6135\n",
      "Data columns (total 16 columns):\n",
      " #   Column                Non-Null Count  Dtype         \n",
      "---  ------                --------------  -----         \n",
      " 0   id                    5473 non-null   object        \n",
      " 1   title                 5473 non-null   object        \n",
      " 2   type                  5473 non-null   object        \n",
      " 3   description           5473 non-null   object        \n",
      " 4   release_year          5473 non-null   int64         \n",
      " 5   age_certification     5473 non-null   object        \n",
      " 6   runtime               5473 non-null   int64         \n",
      " 7   genres                5473 non-null   object        \n",
      " 8   production_countries  5473 non-null   object        \n",
      " 9   seasons               5473 non-null   object        \n",
      " 10  imdb_id               5473 non-null   object        \n",
      " 11  imdb_score            5473 non-null   float64       \n",
      " 12  imdb_votes            5473 non-null   float64       \n",
      " 13  tmdb_popularity       5473 non-null   float64       \n",
      " 14  tmdb_score            5473 non-null   float64       \n",
      " 15  Date                  5473 non-null   datetime64[ns]\n",
      "dtypes: datetime64[ns](1), float64(4), int64(2), object(9)\n",
      "memory usage: 726.9+ KB\n"
     ]
    }
   ],
   "source": [
    "data_titles_df.info()"
   ]
  },
  {
   "cell_type": "code",
   "execution_count": 39,
   "metadata": {},
   "outputs": [
    {
     "data": {
      "text/plain": [
       "type\n",
       "MOVIE    3391\n",
       "SHOW     2082\n",
       "Name: type, dtype: int64"
      ]
     },
     "execution_count": 39,
     "metadata": {},
     "output_type": "execute_result"
    }
   ],
   "source": [
    "data_titles_df.groupby('type').type.count()"
   ]
  },
  {
   "cell_type": "code",
   "execution_count": 47,
   "metadata": {
    "scrolled": true
   },
   "outputs": [
    {
     "data": {
      "text/plain": [
       "Text(0.5, 1.0, 'Count of Movies and Shows vs Type')"
      ]
     },
     "execution_count": 47,
     "metadata": {},
     "output_type": "execute_result"
    },
    {
     "data": {
      "image/png": "[encoded data removed]",
      "text/plain": [
       "<Figure size 432x288 with 1 Axes>"
      ]
     },
     "metadata": {
      "needs_background": "light"
     },
     "output_type": "display_data"
    }
   ],
   "source": [
    "import jovian\n",
    "import pandas as pd\n",
    "import numpy as np\n",
    "import matplotlib.pyplot as plt\n",
    "import seaborn as sns\n",
    "%matplotlib inline\n",
    "import matplotlib\n",
    "sns.countplot(x = 'type', data=data_titles_df)\n",
    "plt.title('Count of Movies and Shows vs Type')"
   ]
  },
  {
   "cell_type": "markdown",
   "metadata": {},
   "source": [
    "The above graph gives us the count of movie and tv show. As per the data we can see the count of movie is more than the tv shows. "
   ]
  },
  {
   "cell_type": "code",
   "execution_count": 41,
   "metadata": {},
   "outputs": [],
   "source": [
    "import jovian"
   ]
  },
  {
   "cell_type": "code",
   "execution_count": 42,
   "metadata": {},
   "outputs": [
    {
     "data": {
      "application/javascript": [
       "window.require && require([\"base/js/namespace\"],function(Jupyter){Jupyter.notebook.save_checkpoint()})"
      ],
      "text/plain": [
       "<IPython.core.display.Javascript object>"
      ]
     },
     "metadata": {},
     "output_type": "display_data"
    },
    {
     "name": "stdout",
     "output_type": "stream",
     "text": [
      "[jovian] Updating notebook \"07poojapal/netflix-movies-and-tv-shows\" on https://jovian.com\u001b[0m\n",
      "[jovian] Committed successfully! https://jovian.com/07poojapal/netflix-movies-and-tv-shows\u001b[0m\n"
     ]
    },
    {
     "data": {
      "text/plain": [
       "'https://jovian.com/07poojapal/netflix-movies-and-tv-shows'"
      ]
     },
     "execution_count": 42,
     "metadata": {},
     "output_type": "execute_result"
    }
   ],
   "source": [
    "jovian.commit()"
   ]
  },
  {
   "cell_type": "code",
   "execution_count": 43,
   "metadata": {},
   "outputs": [
    {
     "data": {
      "text/plain": [
       "['US']    1835\n",
       "['IN']     572\n",
       "['JP']     257\n",
       "['KR']     221\n",
       "['GB']     219\n",
       "['ES']     165\n",
       "['FR']     112\n",
       "['MX']     108\n",
       "['BR']      96\n",
       "['TR']      90\n",
       "Name: production_countries, dtype: int64"
      ]
     },
     "execution_count": 43,
     "metadata": {},
     "output_type": "execute_result"
    }
   ],
   "source": [
    "data_titles_df['production_countries'].value_counts().head(10)"
   ]
  },
  {
   "cell_type": "code",
   "execution_count": 48,
   "metadata": {},
   "outputs": [
    {
     "data": {
      "text/plain": [
       "Text(0.5, 1.0, 'country vs type(Movies and Show)')"
      ]
     },
     "execution_count": 48,
     "metadata": {},
     "output_type": "execute_result"
    },
    {
     "data": {
      "image/png": "[encoded data removed]",
      "text/plain": [
       "<Figure size 864x432 with 1 Axes>"
      ]
     },
     "metadata": {
      "needs_background": "light"
     },
     "output_type": "display_data"
    }
   ],
   "source": [
    "plt.figure(figsize =(12,6))\n",
    "sns.countplot(y='production_countries' ,order = data_titles_df['production_countries'].value_counts().index[0:10],data=data_titles_df)\n",
    "plt.title('country vs type(Movies and Show)')"
   ]
  },
  {
   "cell_type": "markdown",
   "metadata": {},
   "source": [
    "Now separating the data for Movies and TV Shows by creating two new variables to store the data separately."
   ]
  },
  {
   "cell_type": "code",
   "execution_count": 45,
   "metadata": {},
   "outputs": [],
   "source": [
    "data_MOVIE = data_titles_df[data_titles_df['type']=='MOVIE']\n",
    "data_SHOW = data_titles_df[data_titles_df['type']=='SHOW']"
   ]
  },
  {
   "cell_type": "code",
   "execution_count": 46,
   "metadata": {},
   "outputs": [
    {
     "data": {
      "text/plain": [
       "Text(0.5, 1.0, 'Top 10 countries producing show in Netflix')"
      ]
     },
     "execution_count": 46,
     "metadata": {},
     "output_type": "execute_result"
    },
    {
     "data": {
      "image/png": "[encoded data removed]",
      "text/plain": [
       "<Figure size 1080x576 with 1 Axes>"
      ]
     },
     "metadata": {
      "needs_background": "light"
     },
     "output_type": "display_data"
    },
    {
     "data": {
      "image/png": "[encoded data removed]",
      "text/plain": [
       "<Figure size 1080x576 with 1 Axes>"
      ]
     },
     "metadata": {
      "needs_background": "light"
     },
     "output_type": "display_data"
    }
   ],
   "source": [
    "plt.figure(figsize = (15,8))\n",
    "sns.countplot(y='production_countries',order= data_titles_df['production_countries'].value_counts().index[0:10], data=data_MOVIE)\n",
    "plt.title('Top 10 countries producing movies in Netflix')\n",
    "\n",
    "plt.figure(figsize = (15,8))\n",
    "sns.countplot(y='production_countries',order= data_titles_df['production_countries'].value_counts().index[0:10], data=data_SHOW)\n",
    "plt.title('Top 10 countries producing show in Netflix')"
   ]
  },
  {
   "cell_type": "markdown",
   "metadata": {},
   "source": [
    "From the above we can say that US is the top country in producing Movies and TV Shows. Then the second country for movie is India and Japan for TV shows. "
   ]
  },
  {
   "cell_type": "markdown",
   "metadata": {},
   "source": [
    "Now we will check the tmdb_popularity of the data."
   ]
  },
  {
   "cell_type": "code",
   "execution_count": 47,
   "metadata": {},
   "outputs": [
    {
     "data": {
      "text/plain": [
       "1.400     14\n",
       "0.600      7\n",
       "2.672      5\n",
       "3.412      4\n",
       "4.154      4\n",
       "          ..\n",
       "14.430     1\n",
       "12.164     1\n",
       "22.935     1\n",
       "1.859      1\n",
       "5.665      1\n",
       "Name: tmdb_popularity, Length: 4804, dtype: int64"
      ]
     },
     "execution_count": 47,
     "metadata": {},
     "output_type": "execute_result"
    }
   ],
   "source": [
    "data_titles_df.tmdb_popularity.value_counts()"
   ]
  },
  {
   "cell_type": "code",
   "execution_count": 48,
   "metadata": {},
   "outputs": [
    {
     "data": {
      "text/plain": [
       "Text(0.5, 1.0, 'tmdb_popularity of shows on netflix vs count')"
      ]
     },
     "execution_count": 48,
     "metadata": {},
     "output_type": "execute_result"
    },
    {
     "data": {
      "image/png": "[encoded data removed]",
      "text/plain": [
       "<Figure size 720x576 with 1 Axes>"
      ]
     },
     "metadata": {
      "needs_background": "light"
     },
     "output_type": "display_data"
    }
   ],
   "source": [
    "plt.figure(figsize = (10,8))\n",
    "sns.countplot(x='tmdb_popularity',order=data_titles_df['tmdb_popularity'].value_counts().index[0:10],data=data_SHOW)\n",
    "plt.title('tmdb_popularity of shows on netflix vs count')"
   ]
  },
  {
   "cell_type": "markdown",
   "metadata": {},
   "source": [
    "This shows how popular are the TV shows. "
   ]
  },
  {
   "cell_type": "code",
   "execution_count": 49,
   "metadata": {},
   "outputs": [
    {
     "data": {
      "text/plain": [
       "2022    823\n",
       "2021    760\n",
       "2019    686\n",
       "2018    686\n",
       "2020    675\n",
       "2017    440\n",
       "2016    287\n",
       "2015    181\n",
       "2014    127\n",
       "2013     91\n",
       "2023     82\n",
       "2012     77\n",
       "2011     56\n",
       "2009     52\n",
       "2010     49\n",
       "2008     42\n",
       "2006     37\n",
       "2007     35\n",
       "2004     31\n",
       "2005     26\n",
       "Name: release_year, dtype: int64"
      ]
     },
     "execution_count": 49,
     "metadata": {},
     "output_type": "execute_result"
    }
   ],
   "source": [
    "data_titles_df.release_year.value_counts()[:20]"
   ]
  },
  {
   "cell_type": "code",
   "execution_count": 50,
   "metadata": {},
   "outputs": [
    {
     "data": {
      "text/plain": [
       "Text(0.5, 1.0, 'Show Content released in years on Netflix')"
      ]
     },
     "execution_count": 50,
     "metadata": {},
     "output_type": "execute_result"
    },
    {
     "data": {
      "image/png": "[encoded data removed]",
      "text/plain": [
       "<Figure size 1080x648 with 1 Axes>"
      ]
     },
     "metadata": {
      "needs_background": "light"
     },
     "output_type": "display_data"
    },
    {
     "data": {
      "image/png": "[encoded data removed]",
      "text/plain": [
       "<Figure size 1080x648 with 1 Axes>"
      ]
     },
     "metadata": {
      "needs_background": "light"
     },
     "output_type": "display_data"
    }
   ],
   "source": [
    "plt.figure(figsize = (15,9))\n",
    "sns.countplot(x = 'release_year', order=data_titles_df['release_year'].value_counts().index[0:20],data=data_MOVIE)\n",
    "plt.title('Movie Content released in years on Netflix')\n",
    "\n",
    "plt.figure(figsize = (15,9))\n",
    "sns.countplot(x = 'release_year', order=data_titles_df['release_year'].value_counts().index[0:20],data=data_SHOW)\n",
    "plt.title('Show Content released in years on Netflix')"
   ]
  },
  {
   "cell_type": "markdown",
   "metadata": {},
   "source": [
    "From the above bar graph we can say that the content getting release is increasing year over year and the maximum content is released in the year 2022."
   ]
  },
  {
   "cell_type": "markdown",
   "metadata": {},
   "source": [
    "Let's see the popular genres on netflix."
   ]
  },
  {
   "cell_type": "code",
   "execution_count": 51,
   "metadata": {},
   "outputs": [
    {
     "data": {
      "text/plain": [
       "Text(0.5, 1.0, 'Top 20 Genres on Netflix')"
      ]
     },
     "execution_count": 51,
     "metadata": {},
     "output_type": "execute_result"
    },
    {
     "data": {
      "image/png": "[encoded data removed]",
      "text/plain": [
       "<Figure size 864x576 with 1 Axes>"
      ]
     },
     "metadata": {
      "needs_background": "light"
     },
     "output_type": "display_data"
    }
   ],
   "source": [
    "plt.figure(figsize = (12,8))\n",
    "sns.countplot(y='genres',order=data_titles_df['genres'].value_counts().index[0:20],data=data_titles_df)\n",
    "plt.title('Top 20 Genres on Netflix')"
   ]
  },
  {
   "cell_type": "markdown",
   "metadata": {},
   "source": [
    "Summary\n",
    ". Netflix has more Movies than Shows\n",
    ". United States top in producing the content for Movies and Shows\n",
    ". In 2022 most content is produced on netflix \n",
    ". Comedy and documentation are the most popular genres on netflix."
   ]
  },
  {
   "cell_type": "code",
   "execution_count": 1,
   "metadata": {},
   "outputs": [],
   "source": [
    "import jovian"
   ]
  },
  {
   "cell_type": "code",
   "execution_count": 2,
   "metadata": {},
   "outputs": [
    {
     "data": {
      "application/javascript": [
       "window.require && require([\"base/js/namespace\"],function(Jupyter){Jupyter.notebook.save_checkpoint()})"
      ],
      "text/plain": [
       "<IPython.core.display.Javascript object>"
      ]
     },
     "metadata": {},
     "output_type": "display_data"
    },
    {
     "name": "stdout",
     "output_type": "stream",
     "text": [
      "[jovian] Updating notebook \"07poojapal/netflix-movies-and-tv-shows\" on https://jovian.com\u001b[0m\n",
      "[jovian] Committed successfully! https://jovian.com/07poojapal/netflix-movies-and-tv-shows\u001b[0m\n"
     ]
    },
    {
     "data": {
      "text/plain": [
       "'https://jovian.com/07poojapal/netflix-movies-and-tv-shows'"
      ]
     },
     "execution_count": 2,
     "metadata": {},
     "output_type": "execute_result"
    }
   ],
   "source": [
    "jovian.commit()"
   ]
  },
  {
   "cell_type": "markdown",
   "metadata": {},
   "source": [
    "## Asking and Answering Questions\n",
    "\n",
    "We will now explore the data by asking some questions and getting answers in form of graphs.\n",
    "\n"
   ]
  },
  {
   "cell_type": "markdown",
   "metadata": {},
   "source": [
    "#### Q1: Which is the most popular character from the data on Netflix?"
   ]
  },
  {
   "cell_type": "code",
   "execution_count": 54,
   "metadata": {},
   "outputs": [
    {
     "data": {
      "text/html": [
       "<div>\n",
       "<style scoped>\n",
       "    .dataframe tbody tr th:only-of-type {\n",
       "        vertical-align: middle;\n",
       "    }\n",
       "\n",
       "    .dataframe tbody tr th {\n",
       "        vertical-align: top;\n",
       "    }\n",
       "\n",
       "    .dataframe thead th {\n",
       "        text-align: right;\n",
       "    }\n",
       "</style>\n",
       "<table border=\"1\" class=\"dataframe\">\n",
       "  <thead>\n",
       "    <tr style=\"text-align: right;\">\n",
       "      <th></th>\n",
       "      <th>person_id</th>\n",
       "      <th>id</th>\n",
       "      <th>name</th>\n",
       "      <th>character</th>\n",
       "      <th>role</th>\n",
       "    </tr>\n",
       "  </thead>\n",
       "  <tbody>\n",
       "    <tr>\n",
       "      <th>0</th>\n",
       "      <td>3180</td>\n",
       "      <td>tm82169</td>\n",
       "      <td>Sylvester Stallone</td>\n",
       "      <td>Robert \"Rocky\" Balboa</td>\n",
       "      <td>ACTOR</td>\n",
       "    </tr>\n",
       "    <tr>\n",
       "      <th>1</th>\n",
       "      <td>7748</td>\n",
       "      <td>tm82169</td>\n",
       "      <td>Talia Shire</td>\n",
       "      <td>Adrianna \"Adrian\" Pennino</td>\n",
       "      <td>ACTOR</td>\n",
       "    </tr>\n",
       "    <tr>\n",
       "      <th>2</th>\n",
       "      <td>7749</td>\n",
       "      <td>tm82169</td>\n",
       "      <td>Burt Young</td>\n",
       "      <td>Paulie Pennino</td>\n",
       "      <td>ACTOR</td>\n",
       "    </tr>\n",
       "    <tr>\n",
       "      <th>3</th>\n",
       "      <td>7750</td>\n",
       "      <td>tm82169</td>\n",
       "      <td>Carl Weathers</td>\n",
       "      <td>Apollo Creed</td>\n",
       "      <td>ACTOR</td>\n",
       "    </tr>\n",
       "    <tr>\n",
       "      <th>4</th>\n",
       "      <td>7751</td>\n",
       "      <td>tm82169</td>\n",
       "      <td>Burgess Meredith</td>\n",
       "      <td>Mickey Goldmill</td>\n",
       "      <td>ACTOR</td>\n",
       "    </tr>\n",
       "    <tr>\n",
       "      <th>5</th>\n",
       "      <td>7752</td>\n",
       "      <td>tm82169</td>\n",
       "      <td>Thayer David</td>\n",
       "      <td>George \"Miles\" Jergens</td>\n",
       "      <td>ACTOR</td>\n",
       "    </tr>\n",
       "    <tr>\n",
       "      <th>6</th>\n",
       "      <td>7753</td>\n",
       "      <td>tm82169</td>\n",
       "      <td>Joe Spinell</td>\n",
       "      <td>Tony Gazzo</td>\n",
       "      <td>ACTOR</td>\n",
       "    </tr>\n",
       "    <tr>\n",
       "      <th>7</th>\n",
       "      <td>7754</td>\n",
       "      <td>tm82169</td>\n",
       "      <td>Jimmy Gambina</td>\n",
       "      <td>Mike</td>\n",
       "      <td>ACTOR</td>\n",
       "    </tr>\n",
       "    <tr>\n",
       "      <th>8</th>\n",
       "      <td>7755</td>\n",
       "      <td>tm82169</td>\n",
       "      <td>Bill Baldwin</td>\n",
       "      <td>Fight Announcer</td>\n",
       "      <td>ACTOR</td>\n",
       "    </tr>\n",
       "    <tr>\n",
       "      <th>9</th>\n",
       "      <td>7756</td>\n",
       "      <td>tm82169</td>\n",
       "      <td>Al Silvani</td>\n",
       "      <td>Cut Man</td>\n",
       "      <td>ACTOR</td>\n",
       "    </tr>\n",
       "  </tbody>\n",
       "</table>\n",
       "</div>"
      ],
      "text/plain": [
       "   person_id       id                name                  character   role\n",
       "0       3180  tm82169  Sylvester Stallone      Robert \"Rocky\" Balboa  ACTOR\n",
       "1       7748  tm82169         Talia Shire  Adrianna \"Adrian\" Pennino  ACTOR\n",
       "2       7749  tm82169          Burt Young             Paulie Pennino  ACTOR\n",
       "3       7750  tm82169       Carl Weathers               Apollo Creed  ACTOR\n",
       "4       7751  tm82169    Burgess Meredith            Mickey Goldmill  ACTOR\n",
       "5       7752  tm82169        Thayer David     George \"Miles\" Jergens  ACTOR\n",
       "6       7753  tm82169         Joe Spinell                 Tony Gazzo  ACTOR\n",
       "7       7754  tm82169       Jimmy Gambina                       Mike  ACTOR\n",
       "8       7755  tm82169        Bill Baldwin            Fight Announcer  ACTOR\n",
       "9       7756  tm82169          Al Silvani                    Cut Man  ACTOR"
      ]
     },
     "execution_count": 54,
     "metadata": {},
     "output_type": "execute_result"
    }
   ],
   "source": [
    "data_credits_df.head(10)"
   ]
  },
  {
   "cell_type": "code",
   "execution_count": 55,
   "metadata": {},
   "outputs": [
    {
     "data": {
      "text/html": [
       "<div>\n",
       "<style scoped>\n",
       "    .dataframe tbody tr th:only-of-type {\n",
       "        vertical-align: middle;\n",
       "    }\n",
       "\n",
       "    .dataframe tbody tr th {\n",
       "        vertical-align: top;\n",
       "    }\n",
       "\n",
       "    .dataframe thead th {\n",
       "        text-align: right;\n",
       "    }\n",
       "</style>\n",
       "<table border=\"1\" class=\"dataframe\">\n",
       "  <thead>\n",
       "    <tr style=\"text-align: right;\">\n",
       "      <th></th>\n",
       "      <th>person_id</th>\n",
       "      <th>id</th>\n",
       "      <th>name</th>\n",
       "      <th>character</th>\n",
       "      <th>role</th>\n",
       "    </tr>\n",
       "  </thead>\n",
       "  <tbody>\n",
       "    <tr>\n",
       "      <th>81345</th>\n",
       "      <td>2722729</td>\n",
       "      <td>tm1072700</td>\n",
       "      <td>Amamda Ugo Grace</td>\n",
       "      <td>Efe</td>\n",
       "      <td>ACTOR</td>\n",
       "    </tr>\n",
       "    <tr>\n",
       "      <th>81346</th>\n",
       "      <td>2722727</td>\n",
       "      <td>tm1072700</td>\n",
       "      <td>Chris Iyanya</td>\n",
       "      <td>Joshua</td>\n",
       "      <td>ACTOR</td>\n",
       "    </tr>\n",
       "    <tr>\n",
       "      <th>81347</th>\n",
       "      <td>2722570</td>\n",
       "      <td>tm1072700</td>\n",
       "      <td>Korede Izobo</td>\n",
       "      <td>Peter</td>\n",
       "      <td>ACTOR</td>\n",
       "    </tr>\n",
       "    <tr>\n",
       "      <th>81348</th>\n",
       "      <td>2590264</td>\n",
       "      <td>tm1072700</td>\n",
       "      <td>Jide Kosoko</td>\n",
       "      <td>Olasupo</td>\n",
       "      <td>ACTOR</td>\n",
       "    </tr>\n",
       "    <tr>\n",
       "      <th>81349</th>\n",
       "      <td>2722633</td>\n",
       "      <td>tm1072700</td>\n",
       "      <td>Akin-Cole Muyiwa</td>\n",
       "      <td>Mr. Ake</td>\n",
       "      <td>ACTOR</td>\n",
       "    </tr>\n",
       "    <tr>\n",
       "      <th>81350</th>\n",
       "      <td>449518</td>\n",
       "      <td>tm1072700</td>\n",
       "      <td>Kayode Olaiya</td>\n",
       "      <td>Uncle Adio</td>\n",
       "      <td>ACTOR</td>\n",
       "    </tr>\n",
       "    <tr>\n",
       "      <th>81351</th>\n",
       "      <td>2722717</td>\n",
       "      <td>tm1072700</td>\n",
       "      <td>Tolu Osaile</td>\n",
       "      <td>Sade</td>\n",
       "      <td>ACTOR</td>\n",
       "    </tr>\n",
       "    <tr>\n",
       "      <th>81352</th>\n",
       "      <td>2722797</td>\n",
       "      <td>tm1072700</td>\n",
       "      <td>Eniola Oyetola</td>\n",
       "      <td>Officer Meks</td>\n",
       "      <td>ACTOR</td>\n",
       "    </tr>\n",
       "    <tr>\n",
       "      <th>81353</th>\n",
       "      <td>866314</td>\n",
       "      <td>tm1072700</td>\n",
       "      <td>Tope Tedela</td>\n",
       "      <td>Officer Jack</td>\n",
       "      <td>ACTOR</td>\n",
       "    </tr>\n",
       "    <tr>\n",
       "      <th>81354</th>\n",
       "      <td>1807691</td>\n",
       "      <td>tm1072700</td>\n",
       "      <td>Taiwo Egunjobi</td>\n",
       "      <td>Not available</td>\n",
       "      <td>DIRECTOR</td>\n",
       "    </tr>\n",
       "  </tbody>\n",
       "</table>\n",
       "</div>"
      ],
      "text/plain": [
       "       person_id         id              name      character      role\n",
       "81345    2722729  tm1072700  Amamda Ugo Grace            Efe     ACTOR\n",
       "81346    2722727  tm1072700      Chris Iyanya         Joshua     ACTOR\n",
       "81347    2722570  tm1072700      Korede Izobo          Peter     ACTOR\n",
       "81348    2590264  tm1072700       Jide Kosoko        Olasupo     ACTOR\n",
       "81349    2722633  tm1072700  Akin-Cole Muyiwa        Mr. Ake     ACTOR\n",
       "81350     449518  tm1072700     Kayode Olaiya     Uncle Adio     ACTOR\n",
       "81351    2722717  tm1072700       Tolu Osaile           Sade     ACTOR\n",
       "81352    2722797  tm1072700    Eniola Oyetola   Officer Meks     ACTOR\n",
       "81353     866314  tm1072700       Tope Tedela   Officer Jack     ACTOR\n",
       "81354    1807691  tm1072700    Taiwo Egunjobi  Not available  DIRECTOR"
      ]
     },
     "execution_count": 55,
     "metadata": {},
     "output_type": "execute_result"
    }
   ],
   "source": [
    "data_credits_df.tail(10)"
   ]
  },
  {
   "cell_type": "code",
   "execution_count": 56,
   "metadata": {},
   "outputs": [
    {
     "data": {
      "text/plain": [
       "Not available                10823\n",
       "Self                          2736\n",
       "Himself                        826\n",
       "Self (archive footage)         419\n",
       "Herself                        308\n",
       "Dancer                         177\n",
       "Additional Voices (voice)      173\n",
       "(voice)                        126\n",
       "Self - Host                     86\n",
       "Reporter                        80\n",
       "Doctor                          70\n",
       "Nurse                           69\n",
       "Self - Contestant               52\n",
       "Narrator                        52\n",
       "David                           48\n",
       "Narrator (voice)                45\n",
       "Max                             44\n",
       "Alex                            44\n",
       "Bartender                       42\n",
       "Anna                            41\n",
       "Name: character, dtype: int64"
      ]
     },
     "execution_count": 56,
     "metadata": {},
     "output_type": "execute_result"
    }
   ],
   "source": [
    "data_credits_df.character.value_counts()[:20]"
   ]
  },
  {
   "cell_type": "code",
   "execution_count": 49,
   "metadata": {},
   "outputs": [
    {
     "data": {
      "text/plain": [
       "Text(0.5, 1.0, 'character count in Movies and Show')"
      ]
     },
     "execution_count": 49,
     "metadata": {},
     "output_type": "execute_result"
    },
    {
     "data": {
      "image/png": "[encoded data removed]",
      "text/plain": [
       "<Figure size 1080x648 with 1 Axes>"
      ]
     },
     "metadata": {
      "needs_background": "light"
     },
     "output_type": "display_data"
    }
   ],
   "source": [
    "plt.figure(figsize = (15,9))\n",
    "sns.countplot(y = 'character', order=data_credits_df['character'].value_counts().index[0:20],data=data_credits_df)\n",
    "plt.title('character count in Movies and Show')"
   ]
  },
  {
   "cell_type": "markdown",
   "metadata": {},
   "source": [
    "The above data gives the most popular character count."
   ]
  },
  {
   "cell_type": "markdown",
   "metadata": {},
   "source": [
    "#### Q2: Which is the Top Genres in Movies and TV Shows ?"
   ]
  },
  {
   "cell_type": "code",
   "execution_count": 58,
   "metadata": {},
   "outputs": [
    {
     "data": {
      "text/html": [
       "<div>\n",
       "<style scoped>\n",
       "    .dataframe tbody tr th:only-of-type {\n",
       "        vertical-align: middle;\n",
       "    }\n",
       "\n",
       "    .dataframe tbody tr th {\n",
       "        vertical-align: top;\n",
       "    }\n",
       "\n",
       "    .dataframe thead th {\n",
       "        text-align: right;\n",
       "    }\n",
       "</style>\n",
       "<table border=\"1\" class=\"dataframe\">\n",
       "  <thead>\n",
       "    <tr style=\"text-align: right;\">\n",
       "      <th></th>\n",
       "      <th>id</th>\n",
       "      <th>title</th>\n",
       "      <th>type</th>\n",
       "      <th>description</th>\n",
       "      <th>release_year</th>\n",
       "      <th>age_certification</th>\n",
       "      <th>runtime</th>\n",
       "      <th>genres</th>\n",
       "      <th>production_countries</th>\n",
       "      <th>seasons</th>\n",
       "      <th>imdb_id</th>\n",
       "      <th>imdb_score</th>\n",
       "      <th>imdb_votes</th>\n",
       "      <th>tmdb_popularity</th>\n",
       "      <th>tmdb_score</th>\n",
       "      <th>Date</th>\n",
       "    </tr>\n",
       "  </thead>\n",
       "  <tbody>\n",
       "    <tr>\n",
       "      <th>1</th>\n",
       "      <td>tm82169</td>\n",
       "      <td>Rocky</td>\n",
       "      <td>MOVIE</td>\n",
       "      <td>When world heavyweight boxing champion, Apollo...</td>\n",
       "      <td>1976</td>\n",
       "      <td>PG</td>\n",
       "      <td>119</td>\n",
       "      <td>['drama', 'sport']</td>\n",
       "      <td>['US']</td>\n",
       "      <td>Not applicable</td>\n",
       "      <td>tt0075148</td>\n",
       "      <td>8.1</td>\n",
       "      <td>588100.0</td>\n",
       "      <td>106.361</td>\n",
       "      <td>7.782</td>\n",
       "      <td>1970-01-01 00:00:00.000001976</td>\n",
       "    </tr>\n",
       "    <tr>\n",
       "      <th>2</th>\n",
       "      <td>tm17823</td>\n",
       "      <td>Grease</td>\n",
       "      <td>MOVIE</td>\n",
       "      <td>Australian good girl Sandy and greaser Danny f...</td>\n",
       "      <td>1978</td>\n",
       "      <td>PG</td>\n",
       "      <td>110</td>\n",
       "      <td>['romance', 'comedy']</td>\n",
       "      <td>['US']</td>\n",
       "      <td>Not applicable</td>\n",
       "      <td>tt0077631</td>\n",
       "      <td>7.2</td>\n",
       "      <td>283316.0</td>\n",
       "      <td>33.160</td>\n",
       "      <td>7.406</td>\n",
       "      <td>1970-01-01 00:00:00.000001978</td>\n",
       "    </tr>\n",
       "    <tr>\n",
       "      <th>3</th>\n",
       "      <td>tm191099</td>\n",
       "      <td>The Sting</td>\n",
       "      <td>MOVIE</td>\n",
       "      <td>A novice con man teams up with an acknowledged...</td>\n",
       "      <td>1973</td>\n",
       "      <td>PG</td>\n",
       "      <td>129</td>\n",
       "      <td>['crime', 'drama', 'comedy', 'music']</td>\n",
       "      <td>['US']</td>\n",
       "      <td>Not applicable</td>\n",
       "      <td>tt0070735</td>\n",
       "      <td>8.3</td>\n",
       "      <td>266738.0</td>\n",
       "      <td>24.616</td>\n",
       "      <td>8.020</td>\n",
       "      <td>1970-01-01 00:00:00.000001973</td>\n",
       "    </tr>\n",
       "    <tr>\n",
       "      <th>4</th>\n",
       "      <td>tm69975</td>\n",
       "      <td>Rocky II</td>\n",
       "      <td>MOVIE</td>\n",
       "      <td>After Rocky goes the distance with champ Apoll...</td>\n",
       "      <td>1979</td>\n",
       "      <td>PG</td>\n",
       "      <td>119</td>\n",
       "      <td>['drama', 'sport']</td>\n",
       "      <td>['US']</td>\n",
       "      <td>Not applicable</td>\n",
       "      <td>tt0079817</td>\n",
       "      <td>7.3</td>\n",
       "      <td>216307.0</td>\n",
       "      <td>75.699</td>\n",
       "      <td>7.246</td>\n",
       "      <td>1970-01-01 00:00:00.000001979</td>\n",
       "    </tr>\n",
       "    <tr>\n",
       "      <th>5</th>\n",
       "      <td>tm127384</td>\n",
       "      <td>Monty Python and the Holy Grail</td>\n",
       "      <td>MOVIE</td>\n",
       "      <td>King Arthur, accompanied by his squire, recrui...</td>\n",
       "      <td>1975</td>\n",
       "      <td>PG</td>\n",
       "      <td>91</td>\n",
       "      <td>['fantasy', 'comedy']</td>\n",
       "      <td>['GB']</td>\n",
       "      <td>Not applicable</td>\n",
       "      <td>tt0071853</td>\n",
       "      <td>8.2</td>\n",
       "      <td>547292.0</td>\n",
       "      <td>20.964</td>\n",
       "      <td>7.804</td>\n",
       "      <td>1970-01-01 00:00:00.000001975</td>\n",
       "    </tr>\n",
       "    <tr>\n",
       "      <th>6</th>\n",
       "      <td>tm17249</td>\n",
       "      <td>Animal House</td>\n",
       "      <td>MOVIE</td>\n",
       "      <td>At a 1962 College, Dean Vernon Wormer is deter...</td>\n",
       "      <td>1978</td>\n",
       "      <td>R</td>\n",
       "      <td>109</td>\n",
       "      <td>['comedy']</td>\n",
       "      <td>['US']</td>\n",
       "      <td>Not applicable</td>\n",
       "      <td>tt0077975</td>\n",
       "      <td>7.4</td>\n",
       "      <td>123611.0</td>\n",
       "      <td>17.372</td>\n",
       "      <td>7.020</td>\n",
       "      <td>1970-01-01 00:00:00.000001978</td>\n",
       "    </tr>\n",
       "    <tr>\n",
       "      <th>7</th>\n",
       "      <td>ts22164</td>\n",
       "      <td>Monty Python's Flying Circus</td>\n",
       "      <td>SHOW</td>\n",
       "      <td>A British sketch comedy series with the shows ...</td>\n",
       "      <td>1969</td>\n",
       "      <td>TV-14</td>\n",
       "      <td>30</td>\n",
       "      <td>['comedy', 'european']</td>\n",
       "      <td>['GB']</td>\n",
       "      <td>4.0</td>\n",
       "      <td>tt0063929</td>\n",
       "      <td>8.8</td>\n",
       "      <td>75654.0</td>\n",
       "      <td>24.773</td>\n",
       "      <td>8.258</td>\n",
       "      <td>1970-01-01 00:00:00.000001969</td>\n",
       "    </tr>\n",
       "    <tr>\n",
       "      <th>8</th>\n",
       "      <td>tm70993</td>\n",
       "      <td>Life of Brian</td>\n",
       "      <td>MOVIE</td>\n",
       "      <td>Brian Cohen is an average young Jewish man, bu...</td>\n",
       "      <td>1979</td>\n",
       "      <td>R</td>\n",
       "      <td>94</td>\n",
       "      <td>['comedy']</td>\n",
       "      <td>['GB']</td>\n",
       "      <td>Not applicable</td>\n",
       "      <td>tt0079470</td>\n",
       "      <td>8.0</td>\n",
       "      <td>405022.0</td>\n",
       "      <td>19.787</td>\n",
       "      <td>7.762</td>\n",
       "      <td>1970-01-01 00:00:00.000001979</td>\n",
       "    </tr>\n",
       "    <tr>\n",
       "      <th>9</th>\n",
       "      <td>tm16479</td>\n",
       "      <td>White Christmas</td>\n",
       "      <td>MOVIE</td>\n",
       "      <td>Two talented song-and-dance men team up after ...</td>\n",
       "      <td>1954</td>\n",
       "      <td>Not available</td>\n",
       "      <td>120</td>\n",
       "      <td>['comedy', 'music', 'romance']</td>\n",
       "      <td>['US']</td>\n",
       "      <td>Not applicable</td>\n",
       "      <td>tt0047673</td>\n",
       "      <td>7.5</td>\n",
       "      <td>46586.0</td>\n",
       "      <td>11.598</td>\n",
       "      <td>7.200</td>\n",
       "      <td>1970-01-01 00:00:00.000001954</td>\n",
       "    </tr>\n",
       "    <tr>\n",
       "      <th>10</th>\n",
       "      <td>tm91699</td>\n",
       "      <td>Heroes</td>\n",
       "      <td>MOVIE</td>\n",
       "      <td>A Vietnam veteran suffering from post traumati...</td>\n",
       "      <td>1977</td>\n",
       "      <td>PG</td>\n",
       "      <td>112</td>\n",
       "      <td>['drama', 'comedy', 'romance']</td>\n",
       "      <td>['US']</td>\n",
       "      <td>Not applicable</td>\n",
       "      <td>tt0076138</td>\n",
       "      <td>6.0</td>\n",
       "      <td>1883.0</td>\n",
       "      <td>7.869</td>\n",
       "      <td>6.500</td>\n",
       "      <td>1970-01-01 00:00:00.000001977</td>\n",
       "    </tr>\n",
       "    <tr>\n",
       "      <th>11</th>\n",
       "      <td>tm12775</td>\n",
       "      <td>Play Misty for Me</td>\n",
       "      <td>MOVIE</td>\n",
       "      <td>A brief fling between a male disc jockey and a...</td>\n",
       "      <td>1971</td>\n",
       "      <td>R</td>\n",
       "      <td>102</td>\n",
       "      <td>['drama', 'thriller']</td>\n",
       "      <td>['US']</td>\n",
       "      <td>Not applicable</td>\n",
       "      <td>tt0067588</td>\n",
       "      <td>6.9</td>\n",
       "      <td>29706.0</td>\n",
       "      <td>10.964</td>\n",
       "      <td>6.612</td>\n",
       "      <td>1970-01-01 00:00:00.000001971</td>\n",
       "    </tr>\n",
       "    <tr>\n",
       "      <th>12</th>\n",
       "      <td>tm135083</td>\n",
       "      <td>Cairo Station</td>\n",
       "      <td>MOVIE</td>\n",
       "      <td>Qinawi, a physically challenged peddler who ma...</td>\n",
       "      <td>1958</td>\n",
       "      <td>Not available</td>\n",
       "      <td>77</td>\n",
       "      <td>['drama', 'comedy', 'crime']</td>\n",
       "      <td>['EG']</td>\n",
       "      <td>Not applicable</td>\n",
       "      <td>tt0051390</td>\n",
       "      <td>7.5</td>\n",
       "      <td>4878.0</td>\n",
       "      <td>7.372</td>\n",
       "      <td>7.400</td>\n",
       "      <td>1970-01-01 00:00:00.000001958</td>\n",
       "    </tr>\n",
       "    <tr>\n",
       "      <th>13</th>\n",
       "      <td>tm69997</td>\n",
       "      <td>Richard Pryor: Live in Concert</td>\n",
       "      <td>MOVIE</td>\n",
       "      <td>Richard Pryor delivers monologues on race, sex...</td>\n",
       "      <td>1979</td>\n",
       "      <td>R</td>\n",
       "      <td>78</td>\n",
       "      <td>['comedy', 'documentation']</td>\n",
       "      <td>['US']</td>\n",
       "      <td>Not applicable</td>\n",
       "      <td>tt0284692</td>\n",
       "      <td>8.1</td>\n",
       "      <td>5141.0</td>\n",
       "      <td>7.266</td>\n",
       "      <td>7.432</td>\n",
       "      <td>1970-01-01 00:00:00.000001979</td>\n",
       "    </tr>\n",
       "    <tr>\n",
       "      <th>14</th>\n",
       "      <td>tm16812</td>\n",
       "      <td>Bandie</td>\n",
       "      <td>MOVIE</td>\n",
       "      <td>Maharaj Brajbhan lives a wealthy lifestyle in ...</td>\n",
       "      <td>1978</td>\n",
       "      <td>Not available</td>\n",
       "      <td>141</td>\n",
       "      <td>['drama', 'romance', 'action']</td>\n",
       "      <td>['IN']</td>\n",
       "      <td>Not applicable</td>\n",
       "      <td>tt1219315</td>\n",
       "      <td>4.8</td>\n",
       "      <td>37.0</td>\n",
       "      <td>1.862</td>\n",
       "      <td>6.000</td>\n",
       "      <td>1970-01-01 00:00:00.000001978</td>\n",
       "    </tr>\n",
       "    <tr>\n",
       "      <th>15</th>\n",
       "      <td>tm75975</td>\n",
       "      <td>Prince</td>\n",
       "      <td>MOVIE</td>\n",
       "      <td>To better himself, a spoiled prince temporaril...</td>\n",
       "      <td>1969</td>\n",
       "      <td>Not available</td>\n",
       "      <td>152</td>\n",
       "      <td>['romance']</td>\n",
       "      <td>['IN']</td>\n",
       "      <td>Not applicable</td>\n",
       "      <td>tt0064842</td>\n",
       "      <td>6.8</td>\n",
       "      <td>199.0</td>\n",
       "      <td>2.450</td>\n",
       "      <td>7.000</td>\n",
       "      <td>1970-01-01 00:00:00.000001969</td>\n",
       "    </tr>\n",
       "    <tr>\n",
       "      <th>16</th>\n",
       "      <td>tm156453</td>\n",
       "      <td>FTA</td>\n",
       "      <td>MOVIE</td>\n",
       "      <td>A documentary about a political troupe headed ...</td>\n",
       "      <td>1972</td>\n",
       "      <td>R</td>\n",
       "      <td>97</td>\n",
       "      <td>['comedy', 'documentation', 'music']</td>\n",
       "      <td>['US']</td>\n",
       "      <td>Not applicable</td>\n",
       "      <td>tt0068562</td>\n",
       "      <td>6.4</td>\n",
       "      <td>433.0</td>\n",
       "      <td>2.062</td>\n",
       "      <td>6.100</td>\n",
       "      <td>1970-01-01 00:00:00.000001972</td>\n",
       "    </tr>\n",
       "    <tr>\n",
       "      <th>17</th>\n",
       "      <td>ts45948</td>\n",
       "      <td>Monty Python's Fliegender Zirkus</td>\n",
       "      <td>SHOW</td>\n",
       "      <td>Monty Python's Fliegender Zirkus consisted of ...</td>\n",
       "      <td>1972</td>\n",
       "      <td>TV-MA</td>\n",
       "      <td>43</td>\n",
       "      <td>['comedy']</td>\n",
       "      <td>['GB']</td>\n",
       "      <td>1.0</td>\n",
       "      <td>tt0202477</td>\n",
       "      <td>8.1</td>\n",
       "      <td>2199.0</td>\n",
       "      <td>1.475</td>\n",
       "      <td>7.000</td>\n",
       "      <td>1970-01-01 00:00:00.000001972</td>\n",
       "    </tr>\n",
       "    <tr>\n",
       "      <th>18</th>\n",
       "      <td>tm89386</td>\n",
       "      <td>Hitler: A Career</td>\n",
       "      <td>MOVIE</td>\n",
       "      <td>A keen chronicle of the unlikely rise to power...</td>\n",
       "      <td>1977</td>\n",
       "      <td>PG</td>\n",
       "      <td>150</td>\n",
       "      <td>['documentation', 'history', 'european']</td>\n",
       "      <td>['DE']</td>\n",
       "      <td>Not applicable</td>\n",
       "      <td>tt0191182</td>\n",
       "      <td>7.5</td>\n",
       "      <td>2718.0</td>\n",
       "      <td>7.155</td>\n",
       "      <td>7.400</td>\n",
       "      <td>1970-01-01 00:00:00.000001977</td>\n",
       "    </tr>\n",
       "    <tr>\n",
       "      <th>19</th>\n",
       "      <td>tm71909</td>\n",
       "      <td>Amrapali</td>\n",
       "      <td>MOVIE</td>\n",
       "      <td>After a failed conquest, Emperor Ajaatshatru p...</td>\n",
       "      <td>1966</td>\n",
       "      <td>Not available</td>\n",
       "      <td>120</td>\n",
       "      <td>['fantasy']</td>\n",
       "      <td>['IN']</td>\n",
       "      <td>Not applicable</td>\n",
       "      <td>tt0060104</td>\n",
       "      <td>6.7</td>\n",
       "      <td>251.0</td>\n",
       "      <td>2.805</td>\n",
       "      <td>6.300</td>\n",
       "      <td>1970-01-01 00:00:00.000001966</td>\n",
       "    </tr>\n",
       "    <tr>\n",
       "      <th>20</th>\n",
       "      <td>tm100027</td>\n",
       "      <td>Alibaba Aur 40 Chor</td>\n",
       "      <td>MOVIE</td>\n",
       "      <td>The movie is based on the story of Ali Baba an...</td>\n",
       "      <td>1980</td>\n",
       "      <td>Not available</td>\n",
       "      <td>138</td>\n",
       "      <td>['drama', 'action', 'romance', 'fantasy', 'fam...</td>\n",
       "      <td>['IN', 'SU']</td>\n",
       "      <td>Not applicable</td>\n",
       "      <td>tt0079749</td>\n",
       "      <td>6.2</td>\n",
       "      <td>599.0</td>\n",
       "      <td>3.711</td>\n",
       "      <td>6.800</td>\n",
       "      <td>1970-01-01 00:00:00.000001980</td>\n",
       "    </tr>\n",
       "  </tbody>\n",
       "</table>\n",
       "</div>"
      ],
      "text/plain": [
       "          id                             title   type  \\\n",
       "1    tm82169                             Rocky  MOVIE   \n",
       "2    tm17823                            Grease  MOVIE   \n",
       "3   tm191099                         The Sting  MOVIE   \n",
       "4    tm69975                          Rocky II  MOVIE   \n",
       "5   tm127384   Monty Python and the Holy Grail  MOVIE   \n",
       "6    tm17249                      Animal House  MOVIE   \n",
       "7    ts22164      Monty Python's Flying Circus   SHOW   \n",
       "8    tm70993                     Life of Brian  MOVIE   \n",
       "9    tm16479                   White Christmas  MOVIE   \n",
       "10   tm91699                            Heroes  MOVIE   \n",
       "11   tm12775                 Play Misty for Me  MOVIE   \n",
       "12  tm135083                     Cairo Station  MOVIE   \n",
       "13   tm69997    Richard Pryor: Live in Concert  MOVIE   \n",
       "14   tm16812                            Bandie  MOVIE   \n",
       "15   tm75975                            Prince  MOVIE   \n",
       "16  tm156453                               FTA  MOVIE   \n",
       "17   ts45948  Monty Python's Fliegender Zirkus   SHOW   \n",
       "18   tm89386                  Hitler: A Career  MOVIE   \n",
       "19   tm71909                          Amrapali  MOVIE   \n",
       "20  tm100027               Alibaba Aur 40 Chor  MOVIE   \n",
       "\n",
       "                                          description  release_year  \\\n",
       "1   When world heavyweight boxing champion, Apollo...          1976   \n",
       "2   Australian good girl Sandy and greaser Danny f...          1978   \n",
       "3   A novice con man teams up with an acknowledged...          1973   \n",
       "4   After Rocky goes the distance with champ Apoll...          1979   \n",
       "5   King Arthur, accompanied by his squire, recrui...          1975   \n",
       "6   At a 1962 College, Dean Vernon Wormer is deter...          1978   \n",
       "7   A British sketch comedy series with the shows ...          1969   \n",
       "8   Brian Cohen is an average young Jewish man, bu...          1979   \n",
       "9   Two talented song-and-dance men team up after ...          1954   \n",
       "10  A Vietnam veteran suffering from post traumati...          1977   \n",
       "11  A brief fling between a male disc jockey and a...          1971   \n",
       "12  Qinawi, a physically challenged peddler who ma...          1958   \n",
       "13  Richard Pryor delivers monologues on race, sex...          1979   \n",
       "14  Maharaj Brajbhan lives a wealthy lifestyle in ...          1978   \n",
       "15  To better himself, a spoiled prince temporaril...          1969   \n",
       "16  A documentary about a political troupe headed ...          1972   \n",
       "17  Monty Python's Fliegender Zirkus consisted of ...          1972   \n",
       "18  A keen chronicle of the unlikely rise to power...          1977   \n",
       "19  After a failed conquest, Emperor Ajaatshatru p...          1966   \n",
       "20  The movie is based on the story of Ali Baba an...          1980   \n",
       "\n",
       "   age_certification  runtime  \\\n",
       "1                 PG      119   \n",
       "2                 PG      110   \n",
       "3                 PG      129   \n",
       "4                 PG      119   \n",
       "5                 PG       91   \n",
       "6                  R      109   \n",
       "7              TV-14       30   \n",
       "8                  R       94   \n",
       "9      Not available      120   \n",
       "10                PG      112   \n",
       "11                 R      102   \n",
       "12     Not available       77   \n",
       "13                 R       78   \n",
       "14     Not available      141   \n",
       "15     Not available      152   \n",
       "16                 R       97   \n",
       "17             TV-MA       43   \n",
       "18                PG      150   \n",
       "19     Not available      120   \n",
       "20     Not available      138   \n",
       "\n",
       "                                               genres production_countries  \\\n",
       "1                                  ['drama', 'sport']               ['US']   \n",
       "2                               ['romance', 'comedy']               ['US']   \n",
       "3               ['crime', 'drama', 'comedy', 'music']               ['US']   \n",
       "4                                  ['drama', 'sport']               ['US']   \n",
       "5                               ['fantasy', 'comedy']               ['GB']   \n",
       "6                                          ['comedy']               ['US']   \n",
       "7                              ['comedy', 'european']               ['GB']   \n",
       "8                                          ['comedy']               ['GB']   \n",
       "9                      ['comedy', 'music', 'romance']               ['US']   \n",
       "10                     ['drama', 'comedy', 'romance']               ['US']   \n",
       "11                              ['drama', 'thriller']               ['US']   \n",
       "12                       ['drama', 'comedy', 'crime']               ['EG']   \n",
       "13                        ['comedy', 'documentation']               ['US']   \n",
       "14                     ['drama', 'romance', 'action']               ['IN']   \n",
       "15                                        ['romance']               ['IN']   \n",
       "16               ['comedy', 'documentation', 'music']               ['US']   \n",
       "17                                         ['comedy']               ['GB']   \n",
       "18           ['documentation', 'history', 'european']               ['DE']   \n",
       "19                                        ['fantasy']               ['IN']   \n",
       "20  ['drama', 'action', 'romance', 'fantasy', 'fam...         ['IN', 'SU']   \n",
       "\n",
       "           seasons    imdb_id  imdb_score  imdb_votes  tmdb_popularity  \\\n",
       "1   Not applicable  tt0075148         8.1    588100.0          106.361   \n",
       "2   Not applicable  tt0077631         7.2    283316.0           33.160   \n",
       "3   Not applicable  tt0070735         8.3    266738.0           24.616   \n",
       "4   Not applicable  tt0079817         7.3    216307.0           75.699   \n",
       "5   Not applicable  tt0071853         8.2    547292.0           20.964   \n",
       "6   Not applicable  tt0077975         7.4    123611.0           17.372   \n",
       "7              4.0  tt0063929         8.8     75654.0           24.773   \n",
       "8   Not applicable  tt0079470         8.0    405022.0           19.787   \n",
       "9   Not applicable  tt0047673         7.5     46586.0           11.598   \n",
       "10  Not applicable  tt0076138         6.0      1883.0            7.869   \n",
       "11  Not applicable  tt0067588         6.9     29706.0           10.964   \n",
       "12  Not applicable  tt0051390         7.5      4878.0            7.372   \n",
       "13  Not applicable  tt0284692         8.1      5141.0            7.266   \n",
       "14  Not applicable  tt1219315         4.8        37.0            1.862   \n",
       "15  Not applicable  tt0064842         6.8       199.0            2.450   \n",
       "16  Not applicable  tt0068562         6.4       433.0            2.062   \n",
       "17             1.0  tt0202477         8.1      2199.0            1.475   \n",
       "18  Not applicable  tt0191182         7.5      2718.0            7.155   \n",
       "19  Not applicable  tt0060104         6.7       251.0            2.805   \n",
       "20  Not applicable  tt0079749         6.2       599.0            3.711   \n",
       "\n",
       "    tmdb_score                          Date  \n",
       "1        7.782 1970-01-01 00:00:00.000001976  \n",
       "2        7.406 1970-01-01 00:00:00.000001978  \n",
       "3        8.020 1970-01-01 00:00:00.000001973  \n",
       "4        7.246 1970-01-01 00:00:00.000001979  \n",
       "5        7.804 1970-01-01 00:00:00.000001975  \n",
       "6        7.020 1970-01-01 00:00:00.000001978  \n",
       "7        8.258 1970-01-01 00:00:00.000001969  \n",
       "8        7.762 1970-01-01 00:00:00.000001979  \n",
       "9        7.200 1970-01-01 00:00:00.000001954  \n",
       "10       6.500 1970-01-01 00:00:00.000001977  \n",
       "11       6.612 1970-01-01 00:00:00.000001971  \n",
       "12       7.400 1970-01-01 00:00:00.000001958  \n",
       "13       7.432 1970-01-01 00:00:00.000001979  \n",
       "14       6.000 1970-01-01 00:00:00.000001978  \n",
       "15       7.000 1970-01-01 00:00:00.000001969  \n",
       "16       6.100 1970-01-01 00:00:00.000001972  \n",
       "17       7.000 1970-01-01 00:00:00.000001972  \n",
       "18       7.400 1970-01-01 00:00:00.000001977  \n",
       "19       6.300 1970-01-01 00:00:00.000001966  \n",
       "20       6.800 1970-01-01 00:00:00.000001980  "
      ]
     },
     "execution_count": 58,
     "metadata": {},
     "output_type": "execute_result"
    }
   ],
   "source": [
    "data_titles_df.head(20)"
   ]
  },
  {
   "cell_type": "code",
   "execution_count": 50,
   "metadata": {},
   "outputs": [
    {
     "data": {
      "text/plain": [
       "Text(0.5, 1.0, 'seasons count for the Shows in Netflix')"
      ]
     },
     "execution_count": 50,
     "metadata": {},
     "output_type": "execute_result"
    },
    {
     "data": {
      "image/png": "[encoded data removed]",
      "text/plain": [
       "<Figure size 1080x648 with 1 Axes>"
      ]
     },
     "metadata": {
      "needs_background": "light"
     },
     "output_type": "display_data"
    }
   ],
   "source": [
    "plt.figure(figsize = (15,9))\n",
    "sns.countplot(y = 'seasons', order=data_titles_df['seasons'].value_counts().index[0:20],data=data_titles_df)\n",
    "plt.title('seasons count for the Shows in Netflix')"
   ]
  },
  {
   "cell_type": "code",
   "execution_count": 82,
   "metadata": {},
   "outputs": [
    {
     "data": {
      "application/javascript": [
       "window.require && require([\"base/js/namespace\"],function(Jupyter){Jupyter.notebook.save_checkpoint()})"
      ],
      "text/plain": [
       "<IPython.core.display.Javascript object>"
      ]
     },
     "metadata": {},
     "output_type": "display_data"
    },
    {
     "name": "stdout",
     "output_type": "stream",
     "text": [
      "[jovian] Updating notebook \"07poojapal/netflix-movies-and-tv-shows\" on https://jovian.com\u001b[0m\n",
      "[jovian] Committed successfully! https://jovian.com/07poojapal/netflix-movies-and-tv-shows\u001b[0m\n"
     ]
    },
    {
     "data": {
      "text/plain": [
       "'https://jovian.com/07poojapal/netflix-movies-and-tv-shows'"
      ]
     },
     "execution_count": 82,
     "metadata": {},
     "output_type": "execute_result"
    }
   ],
   "source": [
    "jovian.commit()"
   ]
  },
  {
   "cell_type": "markdown",
   "metadata": {},
   "source": [
    "The most popular genres for movies and tv shows is comedy. "
   ]
  },
  {
   "cell_type": "markdown",
   "metadata": {},
   "source": [
    "#### Q3: Find the Netflix film duration from the data ?"
   ]
  },
  {
   "cell_type": "code",
   "execution_count": 68,
   "metadata": {},
   "outputs": [
    {
     "name": "stderr",
     "output_type": "stream",
     "text": [
      "/opt/conda/lib/python3.9/site-packages/seaborn/distributions.py:2619: FutureWarning: `distplot` is a deprecated function and will be removed in a future version. Please adapt your code to use either `displot` (a figure-level function with similar flexibility) or `histplot` (an axes-level function for histograms).\n",
      "  warnings.warn(msg, FutureWarning)\n",
      "/opt/conda/lib/python3.9/site-packages/seaborn/_decorators.py:36: FutureWarning: Pass the following variable as a keyword arg: x. From version 0.12, the only valid positional argument will be `data`, and passing other arguments without an explicit keyword will result in an error or misinterpretation.\n",
      "  warnings.warn(\n"
     ]
    },
    {
     "data": {
      "image/png": "[encoded data removed]",
      "text/plain": [
       "<Figure size 1368x360 with 2 Axes>"
      ]
     },
     "metadata": {
      "needs_background": "light"
     },
     "output_type": "display_data"
    }
   ],
   "source": [
    "fig, ax = plt.subplots(1,2, figsize=(19, 5))\n",
    "g1 = sns.distplot(data_MOVIE.runtime, color='skyblue',ax=ax[0]);\n",
    "g1.set_xticks(np.arange(0,360,30))\n",
    "g1.set_title(\"runtime Distribution for Netflix Movies\")\n",
    "g1.set_ylabel(\"% of All Netflix Movies\")\n",
    "g1.set_xlabel(\"runtime (minutes)\")\n",
    "g2 = sns.countplot(data_SHOW.seasons, color='skyblue',ax=ax[1]);\n",
    "g2.set_title(\"Netflix TV Shows Seasons\")\n",
    "g2.set_ylabel(\"Count\")\n",
    "g2.set_xlabel(\"Season(s)\")\n",
    "fig.show()"
   ]
  },
  {
   "cell_type": "markdown",
   "metadata": {},
   "source": [
    "The above graphs gives the runtime in minutes for Shows and Movies. "
   ]
  },
  {
   "cell_type": "markdown",
   "metadata": {},
   "source": [
    "#### Q4: What is the percentage of Netflix Movies and Show ?"
   ]
  },
  {
   "cell_type": "code",
   "execution_count": 69,
   "metadata": {},
   "outputs": [
    {
     "data": {
      "image/png": "[encoded data removed]",
      "text/plain": [
       "<Figure size 864x432 with 1 Axes>"
      ]
     },
     "metadata": {},
     "output_type": "display_data"
    }
   ],
   "source": [
    "plt.figure(figsize=(12,6))\n",
    "plt.title(\"% of Netflix Titles that are either Movies or TV Shows\")\n",
    "g = plt.pie(data_titles_df.type.value_counts(), explode=(0.025,0.025), labels=data_titles_df.type.value_counts().index, colors=['skyblue','navajowhite'],autopct='%1.1f%%', startangle=180);\n",
    "plt.legend()\n",
    "plt.show()"
   ]
  },
  {
   "cell_type": "markdown",
   "metadata": {},
   "source": [
    "The percentage of movies is more than the tv shows on netflix. "
   ]
  },
  {
   "cell_type": "markdown",
   "metadata": {},
   "source": [
    "#### Q5: Find the top 10 actors on Netflix based on number of titles ?"
   ]
  },
  {
   "cell_type": "code",
   "execution_count": 72,
   "metadata": {},
   "outputs": [
    {
     "data": {
      "text/html": [
       "<div>\n",
       "<style scoped>\n",
       "    .dataframe tbody tr th:only-of-type {\n",
       "        vertical-align: middle;\n",
       "    }\n",
       "\n",
       "    .dataframe tbody tr th {\n",
       "        vertical-align: top;\n",
       "    }\n",
       "\n",
       "    .dataframe thead th {\n",
       "        text-align: right;\n",
       "    }\n",
       "</style>\n",
       "<table border=\"1\" class=\"dataframe\">\n",
       "  <thead>\n",
       "    <tr style=\"text-align: right;\">\n",
       "      <th></th>\n",
       "      <th>id</th>\n",
       "      <th>title</th>\n",
       "      <th>type</th>\n",
       "      <th>description</th>\n",
       "      <th>release_year</th>\n",
       "      <th>age_certification</th>\n",
       "      <th>runtime</th>\n",
       "      <th>genres</th>\n",
       "      <th>production_countries</th>\n",
       "      <th>seasons</th>\n",
       "      <th>imdb_id</th>\n",
       "      <th>imdb_score</th>\n",
       "      <th>imdb_votes</th>\n",
       "      <th>tmdb_popularity</th>\n",
       "      <th>tmdb_score</th>\n",
       "      <th>Date</th>\n",
       "      <th>person_id</th>\n",
       "      <th>name</th>\n",
       "      <th>character</th>\n",
       "      <th>role</th>\n",
       "    </tr>\n",
       "  </thead>\n",
       "  <tbody>\n",
       "    <tr>\n",
       "      <th>0</th>\n",
       "      <td>tm82169</td>\n",
       "      <td>Rocky</td>\n",
       "      <td>MOVIE</td>\n",
       "      <td>When world heavyweight boxing champion, Apollo...</td>\n",
       "      <td>1976</td>\n",
       "      <td>PG</td>\n",
       "      <td>119</td>\n",
       "      <td>['drama', 'sport']</td>\n",
       "      <td>['US']</td>\n",
       "      <td>Not applicable</td>\n",
       "      <td>tt0075148</td>\n",
       "      <td>8.1</td>\n",
       "      <td>588100.0</td>\n",
       "      <td>106.361</td>\n",
       "      <td>7.782</td>\n",
       "      <td>1970-01-01 00:00:00.000001976</td>\n",
       "      <td>3180</td>\n",
       "      <td>Sylvester Stallone</td>\n",
       "      <td>Robert \"Rocky\" Balboa</td>\n",
       "      <td>ACTOR</td>\n",
       "    </tr>\n",
       "    <tr>\n",
       "      <th>1</th>\n",
       "      <td>tm82169</td>\n",
       "      <td>Rocky</td>\n",
       "      <td>MOVIE</td>\n",
       "      <td>When world heavyweight boxing champion, Apollo...</td>\n",
       "      <td>1976</td>\n",
       "      <td>PG</td>\n",
       "      <td>119</td>\n",
       "      <td>['drama', 'sport']</td>\n",
       "      <td>['US']</td>\n",
       "      <td>Not applicable</td>\n",
       "      <td>tt0075148</td>\n",
       "      <td>8.1</td>\n",
       "      <td>588100.0</td>\n",
       "      <td>106.361</td>\n",
       "      <td>7.782</td>\n",
       "      <td>1970-01-01 00:00:00.000001976</td>\n",
       "      <td>7748</td>\n",
       "      <td>Talia Shire</td>\n",
       "      <td>Adrianna \"Adrian\" Pennino</td>\n",
       "      <td>ACTOR</td>\n",
       "    </tr>\n",
       "    <tr>\n",
       "      <th>2</th>\n",
       "      <td>tm82169</td>\n",
       "      <td>Rocky</td>\n",
       "      <td>MOVIE</td>\n",
       "      <td>When world heavyweight boxing champion, Apollo...</td>\n",
       "      <td>1976</td>\n",
       "      <td>PG</td>\n",
       "      <td>119</td>\n",
       "      <td>['drama', 'sport']</td>\n",
       "      <td>['US']</td>\n",
       "      <td>Not applicable</td>\n",
       "      <td>tt0075148</td>\n",
       "      <td>8.1</td>\n",
       "      <td>588100.0</td>\n",
       "      <td>106.361</td>\n",
       "      <td>7.782</td>\n",
       "      <td>1970-01-01 00:00:00.000001976</td>\n",
       "      <td>7749</td>\n",
       "      <td>Burt Young</td>\n",
       "      <td>Paulie Pennino</td>\n",
       "      <td>ACTOR</td>\n",
       "    </tr>\n",
       "    <tr>\n",
       "      <th>3</th>\n",
       "      <td>tm82169</td>\n",
       "      <td>Rocky</td>\n",
       "      <td>MOVIE</td>\n",
       "      <td>When world heavyweight boxing champion, Apollo...</td>\n",
       "      <td>1976</td>\n",
       "      <td>PG</td>\n",
       "      <td>119</td>\n",
       "      <td>['drama', 'sport']</td>\n",
       "      <td>['US']</td>\n",
       "      <td>Not applicable</td>\n",
       "      <td>tt0075148</td>\n",
       "      <td>8.1</td>\n",
       "      <td>588100.0</td>\n",
       "      <td>106.361</td>\n",
       "      <td>7.782</td>\n",
       "      <td>1970-01-01 00:00:00.000001976</td>\n",
       "      <td>7750</td>\n",
       "      <td>Carl Weathers</td>\n",
       "      <td>Apollo Creed</td>\n",
       "      <td>ACTOR</td>\n",
       "    </tr>\n",
       "    <tr>\n",
       "      <th>4</th>\n",
       "      <td>tm82169</td>\n",
       "      <td>Rocky</td>\n",
       "      <td>MOVIE</td>\n",
       "      <td>When world heavyweight boxing champion, Apollo...</td>\n",
       "      <td>1976</td>\n",
       "      <td>PG</td>\n",
       "      <td>119</td>\n",
       "      <td>['drama', 'sport']</td>\n",
       "      <td>['US']</td>\n",
       "      <td>Not applicable</td>\n",
       "      <td>tt0075148</td>\n",
       "      <td>8.1</td>\n",
       "      <td>588100.0</td>\n",
       "      <td>106.361</td>\n",
       "      <td>7.782</td>\n",
       "      <td>1970-01-01 00:00:00.000001976</td>\n",
       "      <td>7751</td>\n",
       "      <td>Burgess Meredith</td>\n",
       "      <td>Mickey Goldmill</td>\n",
       "      <td>ACTOR</td>\n",
       "    </tr>\n",
       "  </tbody>\n",
       "</table>\n",
       "</div>"
      ],
      "text/plain": [
       "        id  title   type                                        description  \\\n",
       "0  tm82169  Rocky  MOVIE  When world heavyweight boxing champion, Apollo...   \n",
       "1  tm82169  Rocky  MOVIE  When world heavyweight boxing champion, Apollo...   \n",
       "2  tm82169  Rocky  MOVIE  When world heavyweight boxing champion, Apollo...   \n",
       "3  tm82169  Rocky  MOVIE  When world heavyweight boxing champion, Apollo...   \n",
       "4  tm82169  Rocky  MOVIE  When world heavyweight boxing champion, Apollo...   \n",
       "\n",
       "   release_year age_certification  runtime              genres  \\\n",
       "0          1976                PG      119  ['drama', 'sport']   \n",
       "1          1976                PG      119  ['drama', 'sport']   \n",
       "2          1976                PG      119  ['drama', 'sport']   \n",
       "3          1976                PG      119  ['drama', 'sport']   \n",
       "4          1976                PG      119  ['drama', 'sport']   \n",
       "\n",
       "  production_countries         seasons    imdb_id  imdb_score  imdb_votes  \\\n",
       "0               ['US']  Not applicable  tt0075148         8.1    588100.0   \n",
       "1               ['US']  Not applicable  tt0075148         8.1    588100.0   \n",
       "2               ['US']  Not applicable  tt0075148         8.1    588100.0   \n",
       "3               ['US']  Not applicable  tt0075148         8.1    588100.0   \n",
       "4               ['US']  Not applicable  tt0075148         8.1    588100.0   \n",
       "\n",
       "   tmdb_popularity  tmdb_score                          Date  person_id  \\\n",
       "0          106.361       7.782 1970-01-01 00:00:00.000001976       3180   \n",
       "1          106.361       7.782 1970-01-01 00:00:00.000001976       7748   \n",
       "2          106.361       7.782 1970-01-01 00:00:00.000001976       7749   \n",
       "3          106.361       7.782 1970-01-01 00:00:00.000001976       7750   \n",
       "4          106.361       7.782 1970-01-01 00:00:00.000001976       7751   \n",
       "\n",
       "                 name                  character   role  \n",
       "0  Sylvester Stallone      Robert \"Rocky\" Balboa  ACTOR  \n",
       "1         Talia Shire  Adrianna \"Adrian\" Pennino  ACTOR  \n",
       "2          Burt Young             Paulie Pennino  ACTOR  \n",
       "3       Carl Weathers               Apollo Creed  ACTOR  \n",
       "4    Burgess Meredith            Mickey Goldmill  ACTOR  "
      ]
     },
     "execution_count": 72,
     "metadata": {},
     "output_type": "execute_result"
    }
   ],
   "source": [
    "merged_data = data_titles_df.merge(data_credits_df,on=[\"id\"])\n",
    "merged_data.head()"
   ]
  },
  {
   "cell_type": "code",
   "execution_count": null,
   "metadata": {},
   "outputs": [],
   "source": [
    "person_ID: The person ID on JustWatch.\n",
    "id: The title ID on JustWatch.\n",
    "name: The actor or director's name.\n",
    "character_name: The character name.\n",
    "role: ACTOR or DIRECTOR."
   ]
  },
  {
   "cell_type": "code",
   "execution_count": 74,
   "metadata": {},
   "outputs": [
    {
     "data": {
      "image/png": "[encoded data removed]",
      "text/plain": [
       "<Figure size 432x288 with 1 Axes>"
      ]
     },
     "metadata": {
      "needs_background": "light"
     },
     "output_type": "display_data"
    }
   ],
   "source": [
    "filtered_name = merged_data[merged_data.name != 'No name'].set_index('title').name.str.split(', ', expand=True).stack().reset_index(level=1, drop=True)\n",
    "sns.countplot(y = filtered_name, order=filtered_name.value_counts().index[:10], palette='rocket')\n",
    "plt.show()"
   ]
  },
  {
   "cell_type": "markdown",
   "metadata": {},
   "source": [
    "The most popular actor is Shah Rukh Khan from the above analysis on netflix. "
   ]
  },
  {
   "cell_type": "code",
   "execution_count": 5,
   "metadata": {},
   "outputs": [],
   "source": [
    "import jovian"
   ]
  },
  {
   "cell_type": "code",
   "execution_count": 6,
   "metadata": {},
   "outputs": [
    {
     "data": {
      "application/javascript": [
       "window.require && require([\"base/js/namespace\"],function(Jupyter){Jupyter.notebook.save_checkpoint()})"
      ],
      "text/plain": [
       "<IPython.core.display.Javascript object>"
      ]
     },
     "metadata": {},
     "output_type": "display_data"
    },
    {
     "name": "stdout",
     "output_type": "stream",
     "text": [
      "[jovian] Updating notebook \"07poojapal/netflix-movies-and-tv-shows\" on https://jovian.com\u001b[0m\n",
      "[jovian] Committed successfully! https://jovian.com/07poojapal/netflix-movies-and-tv-shows\u001b[0m\n"
     ]
    },
    {
     "data": {
      "text/plain": [
       "'https://jovian.com/07poojapal/netflix-movies-and-tv-shows'"
      ]
     },
     "execution_count": 6,
     "metadata": {},
     "output_type": "execute_result"
    }
   ],
   "source": [
    "jovian.commit()"
   ]
  },
  {
   "cell_type": "markdown",
   "metadata": {},
   "source": [
    "## Inferences and Conclusion\n",
    "\n",
    "From the above analysis Netflix has grown over the years. We found a lot of insights from the data.The top actors, percentage of movies and shows. Netflix's original subscriber base was based solely in the United States following its IPO. A large part of its success was due to the decision to expand to international markets. The popular markets prioritizes what content the company will release. In this case, we can see that a good amount of international movies and TV shows were added over the years as part of Netflix's global expansion."
   ]
  },
  {
   "cell_type": "code",
   "execution_count": 3,
   "metadata": {},
   "outputs": [],
   "source": [
    "import jovian"
   ]
  },
  {
   "cell_type": "code",
   "execution_count": 4,
   "metadata": {},
   "outputs": [
    {
     "data": {
      "application/javascript": [
       "window.require && require([\"base/js/namespace\"],function(Jupyter){Jupyter.notebook.save_checkpoint()})"
      ],
      "text/plain": [
       "<IPython.core.display.Javascript object>"
      ]
     },
     "metadata": {},
     "output_type": "display_data"
    },
    {
     "name": "stdout",
     "output_type": "stream",
     "text": [
      "[jovian] Updating notebook \"07poojapal/netflix-movies-and-tv-shows\" on https://jovian.com\u001b[0m\n",
      "[jovian] Committed successfully! https://jovian.com/07poojapal/netflix-movies-and-tv-shows\u001b[0m\n"
     ]
    },
    {
     "data": {
      "text/plain": [
       "'https://jovian.com/07poojapal/netflix-movies-and-tv-shows'"
      ]
     },
     "execution_count": 4,
     "metadata": {},
     "output_type": "execute_result"
    }
   ],
   "source": [
    "jovian.commit()"
   ]
  },
  {
   "cell_type": "markdown",
   "metadata": {},
   "source": [
    "## References and Future Work\n",
    "\n",
    "References - https://www.kaggle.com/code/joshuaswords/netflix-data-visualization\n",
    "             https://www.youtube.com/watch?v=csXmVBw8cdo\n",
    "             \n",
    "Future Work - To explore different types of graph in the data.    \n",
    "            - The graphs could be made clearer by setting the colours to the respective team colours."
   ]
  },
  {
   "cell_type": "code",
   "execution_count": 3,
   "metadata": {},
   "outputs": [],
   "source": [
    "import jovian"
   ]
  },
  {
   "cell_type": "code",
   "execution_count": 4,
   "metadata": {
    "scrolled": true
   },
   "outputs": [
    {
     "data": {
      "application/javascript": [
       "window.require && require([\"base/js/namespace\"],function(Jupyter){Jupyter.notebook.save_checkpoint()})"
      ],
      "text/plain": [
       "<IPython.core.display.Javascript object>"
      ]
     },
     "metadata": {},
     "output_type": "display_data"
    },
    {
     "name": "stdout",
     "output_type": "stream",
     "text": [
      "[jovian] Updating notebook \"07poojapal/netflix-movies-and-tv-shows\" on https://jovian.com\u001b[0m\n",
      "[jovian] Committed successfully! https://jovian.com/07poojapal/netflix-movies-and-tv-shows\u001b[0m\n"
     ]
    },
    {
     "data": {
      "text/plain": [
       "'https://jovian.com/07poojapal/netflix-movies-and-tv-shows'"
      ]
     },
     "execution_count": 4,
     "metadata": {},
     "output_type": "execute_result"
    }
   ],
   "source": [
    "jovian.commit()"
   ]
  },
  {
   "cell_type": "code",
   "execution_count": null,
   "metadata": {},
   "outputs": [],
   "source": []
  }
 ],
 "metadata": {
  "language_info": {
   "codemirror_mode": {
    "name": "ipython",
    "version": 3
   },
   "file_extension": ".py",
   "mimetype": "text/x-python",
   "name": "python",
   "nbconvert_exporter": "python",
   "pygments_lexer": "ipython3",
   "version": "3.9.7"
  }
 },
 "nbformat": 4,
 "nbformat_minor": 4
}